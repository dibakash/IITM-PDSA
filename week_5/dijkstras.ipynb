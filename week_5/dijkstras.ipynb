{
 "cells": [
  {
   "attachments": {},
   "cell_type": "markdown",
   "metadata": {},
   "source": [
    "# Single Source Shortest path (No negative weighted Edges)"
   ]
  },
  {
   "attachments": {},
   "cell_type": "markdown",
   "metadata": {},
   "source": [
    "Adjacency Matrix"
   ]
  },
  {
   "cell_type": "code",
   "execution_count": 1,
   "metadata": {},
   "outputs": [],
   "source": [
    "import numpy as np\n",
    "\n",
    "# Weighted directed graph\n",
    "dedges = [(0,1,10),(0,2,80),(1,2,6),(1,4,20),(2,3,70),(4,5,50),(4,6,5),(5,6,10)]\n",
    "size = 7\n",
    "WD = np.zeros(shape=(size,size,2))\n",
    "for (i,j,w) in dedges:\n",
    "    WD[i,j,0] = 1\n",
    "    WD[i,j,1] = w\n",
    "# print(WD)\n",
    "\n",
    "\n",
    "\n",
    "# Weighted Undirected directed graph\n",
    "dedges = [(0,1,10),(0,2,80),(1,2,6),(1,4,20),(2,3,70),(4,5,50),(4,6,5),(5,6,10)]\n",
    "edges = dedges + [(j,i,w) for (i,j,w) in dedges]\n",
    "size = 7\n",
    "import numpy as np\n",
    "WUD = np.zeros(shape=(size,size,2))\n",
    "for (i,j,w) in edges:\n",
    "    WUD[i,j,0] = 1\n",
    "    WUD[i,j,1] = w\n",
    "# print(WUD)"
   ]
  },
  {
   "attachments": {},
   "cell_type": "markdown",
   "metadata": {},
   "source": [
    "Adjacency List"
   ]
  },
  {
   "cell_type": "code",
   "execution_count": 2,
   "metadata": {},
   "outputs": [
    {
     "name": "stdout",
     "output_type": "stream",
     "text": [
      "{0: [(1, 10), (2, 80)], 1: [(2, 6), (4, 20)], 2: [(3, 70)], 3: [], 4: [(5, 50), (6, 5)], 5: [(6, 10)], 6: []}\n",
      "{0: [(1, 10), (2, 80)], 1: [(2, 6), (4, 20), (0, 10)], 2: [(3, 70), (0, 80), (1, 6)], 3: [(2, 70)], 4: [(5, 50), (6, 5), (1, 20)], 5: [(6, 10), (4, 50)], 6: [(4, 5), (5, 10)]}\n"
     ]
    }
   ],
   "source": [
    "# Weighted directed graph\n",
    "dedges = [(0,1,10),(0,2,80),(1,2,6),(1,4,20),(2,3,70),(4,5,50),(4,6,5),(5,6,10)]\n",
    "size = 7\n",
    "WDL = {}\n",
    "for i in range(size):\n",
    "    WDL[i] = []\n",
    "for i,j,d in dedges:\n",
    "    WDL[i].append((j,d))\n",
    "\n",
    "print(WDL)\n",
    "\n",
    "# Weighted undirected graph\n",
    "dedges = [(0,1,10),(0,2,80),(1,2,6),(1,4,20),(2,3,70),(4,5,50),(4,6,5),(5,6,10)]\n",
    "edges = dedges + [(j,i,w) for (i, j, w) in dedges]\n",
    "size = 7\n",
    "WUDL = {}\n",
    "for i in range(size):\n",
    "    WUDL[i] = []\n",
    "for i,j,d in edges:\n",
    "    WUDL[i].append((j,d))\n",
    "\n",
    "print(WUDL)"
   ]
  },
  {
   "attachments": {},
   "cell_type": "markdown",
   "metadata": {},
   "source": [
    "## Dijkstra's Algorithm\n",
    "\n",
    "Dijkstra's algorithm is a popular algorithm for finding the shortest path between two vertices in a weighted graph. Some of its important properties and points are:\n",
    "\n",
    "1. **Single-source shortest path**: Dijkstra's algorithm finds the shortest path from a single source vertex to all other vertices in the graph.\n",
    "\n",
    "2. **Weighted graph**: Dijkstra's algorithm only works on weighted graphs, where each edge has a weight or cost associated with it.\n",
    "\n",
    "3. **Non-negative weights**: Dijkstra's algorithm can only be used on graphs with non-negative edge weights. If the graph contains negative weights, Bellman-Ford algorithm is a better choice.\n",
    "\n",
    "4. **Greedy algorithm**: Dijkstra's algorithm is a greedy algorithm that selects the vertex with the smallest distance from the starting vertex and explores its neighbors. This process is repeated until the shortest path to all vertices is found.\n",
    "    > Note:\n",
    "    >\n",
    "    > A greedy algorithm is a simple and intuitive approach to solving optimization problems, which involves making locally optimal choices at each step in the hope of finding a global optimum.\n",
    "    >\n",
    "    > In a greedy algorithm, the solution is built up one step at a time by selecting the best available option at each step, without looking ahead to see how this choice might affect future steps. The algorithm continues making these local choices until a complete solution is constructed.\n",
    "    >\n",
    "    > While greedy algorithms can be efficient and effective for many types of optimization problems, they may not always find the optimal solution. In some cases, a greedy approach may lead to a locally optimal solution that is far from the true global optimum.\n",
    "\n",
    "5. **Optimal substructure**: Dijkstra's algorithm relies on the optimal substructure property, which means that the optimal solution to a problem can be obtained by combining the optimal solutions to its subproblems.\n",
    "\n",
    "6. **Can handle disconnected graphs**: Dijkstra's algorithm can handle disconnected graphs, but it will only find the shortest path for the connected component containing the source vertex"
   ]
  },
  {
   "attachments": {},
   "cell_type": "markdown",
   "metadata": {},
   "source": [
    "### Algorithm Steps"
   ]
  },
  {
   "attachments": {},
   "cell_type": "markdown",
   "metadata": {},
   "source": [
    "Here are the steps for Dijkstra's algorithm for finding the single source shortest path:\n",
    "\n",
    "1. Create a table to store the distances from the source vertex to each vertex in the graph. Initialize the source vertex with a distance of 0 and all other vertices with infinity. Also create a set of unvisited vertices and mark all vertices as unvisited.\n",
    "\n",
    "2. While the set of unvisited vertices is not empty, do the following:\n",
    "\n",
    "3. Select the unvisited vertex with the smallest distance from the source vertex. This vertex is now _**considered**_ visited.\n",
    "\n",
    "4. For each neighbor of the visited vertex that is still unvisited, **calculate** the distance to that neighbor by adding the weight of the edge between the visited vertex and the neighbor to the distance of the visited vertex. **If** this distance is smaller than the distance currently stored for the neighbor in the table, **update** the table with the new distance.\n",
    "\n",
    "5. After updating the distances for all neighbors, **mark the visited vertex as visited**.\n",
    "\n",
    "6. Repeat steps 3 to 5 until all vertices have been visited or the destination vertex has been visited.\n",
    "\n",
    "7. Once the algorithm has visited all vertices, the table will contain the shortest distances from the source vertex to each vertex in the graph.\n",
    "\n",
    "8. ** To find the shortest path from the source vertex to a destination vertex, backtrack from the destination vertex to the source vertex by following the path with the smallest distance at each step. This will give you the shortest path from the source vertex to the destination vertex. **"
   ]
  },
  {
   "attachments": {},
   "cell_type": "markdown",
   "metadata": {},
   "source": [
    "### Implementation Dijkstra's For Adjacency matrix"
   ]
  },
  {
   "cell_type": "code",
   "execution_count": 11,
   "metadata": {},
   "outputs": [
    {
     "name": "stdout",
     "output_type": "stream",
     "text": [
      "{0: 0, 1: -2.0, 2: -4.0, 3: 3.0, 4: -6.0, 5: 2.0, 6: -1.0}\n"
     ]
    }
   ],
   "source": [
    "import numpy as np\n",
    "\n",
    "def dijkstra(AMat, s):\n",
    "    \n",
    "    rows, _ ,_ = AMat.shape\n",
    "    infinity = np.max(AMat)*rows + 1\n",
    "    visited, distance = {},{}\n",
    "\n",
    "    for i in range(rows):\n",
    "        visited[i]  = False\n",
    "        distance[i] = infinity\n",
    "    \n",
    "    distance[s] = 0\n",
    "    \n",
    "    for _ in range(rows):\n",
    "        nextD = min([distance[v] for v in range(rows) if not visited[v]])\n",
    "        nextVList = [v for v in range(rows) if not visited[v] and distance[v] == nextD]\n",
    "        if nextVList == []:\n",
    "            break\n",
    "        nextV = min(nextVList)\n",
    "\n",
    "        visited[nextV] = True\n",
    "        \n",
    "        for v in range(rows):\n",
    "            if AMat[nextV,v,0] == 1 and not visited[v]:\n",
    "                distance[v] = min([distance[v], distance[nextV] + AMat[nextV,v,1]])\n",
    "    \n",
    "    return distance\n",
    "\n",
    "\n",
    "# dedges = [(0,1,10),(0,2,80),(1,2,6),(1,4,20),(2,3,70),(4,5,50),(4,6,5),(5,6,10)]\n",
    "dedges = [(0,1,-2),(0,2,-4),(0,4,-6),(1,3,5),(2,1,3),(2,6,3),(3,2,4),(3,5,4),(4,6,7),(6,5,3)]\n",
    "\n",
    "# size = dedges[-1][1] + 1\n",
    "size = dedges[-1][0] + 1\n",
    "\n",
    "WM = np.zeros(shape=(size,size,2))\n",
    "\n",
    "for i,j,d in dedges:\n",
    "    WM[i,j,0] = 1\n",
    "    WM[i,j,1] = d\n",
    "\n",
    "\n",
    "print(dijkstra(WM, 0))\n",
    "    \n",
    "# {0: 0, 1: 10.0, 2: 16.0, 3: 86.0, 4: 30.0, 5: 80.0, 6: 35.0}\n",
    "# {s: 0, A: -2, B: -4, C: 3, D: -6, E: 2, F: -1}"
   ]
  },
  {
   "cell_type": "code",
   "execution_count": 4,
   "metadata": {},
   "outputs": [
    {
     "name": "stdout",
     "output_type": "stream",
     "text": [
      "7\n",
      "{0: 0, 1: 10, 2: 16, 3: 86, 4: 30, 5: 80, 6: 35}\n"
     ]
    }
   ],
   "source": [
    "def dijkstra_list(WList, s):\n",
    "    visited, distance = {},{}\n",
    "    # WList {0: [(1, 10), (2, 80)], 1: [(2, 6), (4, 20)], 2: [(3, 70)], 3: [], 4: [(5, 50), (6, 5)], 5: [(6, 10)], 6: []}\n",
    "    # infinity = 1 + len(WList) * max([d for k in WList for v,d in WList[k]])\n",
    "    infinity = float(\"inf\")\n",
    "    \n",
    "    for i in WList:\n",
    "        visited[i] = False\n",
    "        distance[i] = infinity\n",
    "    \n",
    "    distance[s] = 0\n",
    "    \n",
    "    for _ in WList:\n",
    "        nextD = min([distance[d] for d in WList if not visited[d]])\n",
    "        nextV_list = [i for i in WList if distance[i] == nextD and not visited[i]]\n",
    "\n",
    "        if nextV_list == []:\n",
    "            break\n",
    "        \n",
    "        nextV = min(nextV_list)\n",
    "        visited[nextV] = True\n",
    "        \n",
    "        for v,d in WList[nextV]:\n",
    "            if not visited[v]:\n",
    "                distance[v] = min([distance[v], distance[nextV] + d])\n",
    "        \n",
    "                    \n",
    "    \n",
    "    return distance\n",
    "    \n",
    "dedges = [(0,1,10),(0,2,80),(1,2,6),(1,4,20),(2,3,70),(4,5,50),(4,6,5),(5,6,10)]   \n",
    "    \n",
    "\n",
    "size = dedges[-1][1] + 1\n",
    "print(size)\n",
    "WList = {i:[] for i in range(size)}\n",
    "\n",
    "for i,j,d in dedges:\n",
    "    WList[i].append((j,d))\n",
    "\n",
    "\n",
    "print(dijkstra_list(WList,0))"
   ]
  }
 ],
 "metadata": {
  "kernelspec": {
   "display_name": "Python 3",
   "language": "python",
   "name": "python3"
  },
  "language_info": {
   "codemirror_mode": {
    "name": "ipython",
    "version": 3
   },
   "file_extension": ".py",
   "mimetype": "text/x-python",
   "name": "python",
   "nbconvert_exporter": "python",
   "pygments_lexer": "ipython3",
   "version": "3.10.10"
  },
  "orig_nbformat": 4,
  "vscode": {
   "interpreter": {
    "hash": "c978eac7466799293404a0039d84fee54de10c289a27e33b3ff26b5b3fb1ea16"
   }
  }
 },
 "nbformat": 4,
 "nbformat_minor": 2
}
