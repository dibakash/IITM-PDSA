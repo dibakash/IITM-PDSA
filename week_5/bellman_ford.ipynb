{
 "cells": [
  {
   "attachments": {},
   "cell_type": "markdown",
   "metadata": {},
   "source": [
    "# Bellman Ford Algorithm"
   ]
  },
  {
   "attachments": {},
   "cell_type": "markdown",
   "metadata": {},
   "source": [
    "Bellman-Ford algorithm is a dynamic programming based algorithm to find the shortest path in a weighted graph, where the edge weights may be negative. Here are some important points and properties of the algorithm:\n",
    "\n",
    "1. **It can handle graphs with negative edge weights**: Unlike Dijkstra's algorithm, which can only handle non-negative edge weights, the Bellman-Ford algorithm can handle graphs with negative edge weights. However, it cannot handle graphs with negative cycles, which are cycles that have a negative sum of edge weights.\n",
    "\n",
    "2. **It can detect negative cycles**: The Bellman-Ford algorithm can detect negative cycles in a graph. If there is a negative cycle, the algorithm will report that there is no shortest path from the source vertex to some other vertex.\n",
    "\n",
    "3. **It can handle disconnected graphs**: The Bellman-Ford algorithm can handle disconnected graphs by finding the shortest paths from the source vertex to all other vertices in each connected component.\n",
    "\n",
    "4. **It uses dynamic programming**: The Bellman-Ford algorithm uses dynamic programming to solve the shortest path problem. It maintains an array of distances that is gradually updated until it converges to the correct values.\n",
    "Bellman-Ford works for both directed and undirected graphs with non-negative edges weights.\n",
    " \n",
    "\n",
    "Algorithm Steps\n",
    "\n",
    "Step-by-step instructions for the Bellman-Ford algorithm:\n",
    "\n",
    "1. Initialize the distance array: Set the distance of the source vertex to 0 and the distances of all other vertices to infinity.\n",
    "\n",
    "2. Relax all edges: Repeat the following step (V-1) times, where V is the number of vertices in the graph. For each edge (u,v) with weight w, if the distance to u plus w is less than the distance to v, update the distance to v to the distance to u plus w.\n",
    "\n",
    "3. Check for negative weight cycles: After relaxing all edges V-1 times, check for negative weight cycles. For each edge (u,v) with weight w, if the distance to u plus w is less than the distance to v, there exists a negative weight cycle.\n",
    "\n",
    "4. Print the distance array: If there are no negative weight cycles, print the distance array, which contains the shortest path distances from the source vertex to all other vertices."
   ]
  },
  {
   "attachments": {},
   "cell_type": "markdown",
   "metadata": {},
   "source": [
    "## Bellman Ford for adjacency matrix"
   ]
  },
  {
   "cell_type": "code",
   "execution_count": 4,
   "metadata": {},
   "outputs": [
    {
     "name": "stdout",
     "output_type": "stream",
     "text": [
      "{0: 0, 1: 5.0, 2: 5.0, 3: 6.0, 4: 9.0, 5: 7.0, 6: 9.0, 7: 8.0}\n"
     ]
    }
   ],
   "source": [
    "import numpy as np\n",
    "\n",
    "\n",
    "def bellman_ford(WMat, s):\n",
    "    rows,cols,_ = WMat.shape\n",
    "    # infinity = np.max(WMat) * rows + 1\n",
    "    infinity = float(\"inf\")\n",
    "    distance = {i: infinity for i in range(rows)}\n",
    "    \n",
    "    distance[s] = 0\n",
    "    \n",
    "    for _ in range(rows):\n",
    "        for u in range(rows):\n",
    "            for v in range(cols):\n",
    "                if WMat[u,v,0] == 1:\n",
    "                    distance[v] = min([distance[v], distance[u] + WMat[u,v,1]])\n",
    "     \n",
    "    return distance\n",
    "\n",
    "edges = [(0,1,10),(0,7,8),(1,5,2),(2,1,1),(2,3,1),(3,4,3),(4,5,-1),(5,2,-2),(6,1,-4),(6,5,-1),(7,6,1)]\n",
    "# edges = [(0,1,10),(0,2,80),(1,2,6),(1,4,20),(2,3,70),(4,5,50),(4,6,5),(5,6,10)]  \n",
    "# {0: 0, 1: 10.0, 2: 16.0, 3: 86.0, 4: 30.0, 5: 80.0, 6: 35.0}\n",
    " \n",
    "size = max([edges[-1][0], edges[-1][1]]) + 1 # 8\n",
    "\n",
    "W = np.zeros(shape = (size, size, 2))\n",
    "\n",
    "for i,j,d in edges:\n",
    "    W[i,j,0] = 1\n",
    "    W[i,j,1] = d\n",
    "\n",
    "print(bellman_ford(W,0))\n"
   ]
  },
  {
   "attachments": {},
   "cell_type": "markdown",
   "metadata": {},
   "source": [
    "## Bellman Ford for adjacency List"
   ]
  },
  {
   "cell_type": "code",
   "execution_count": 15,
   "metadata": {},
   "outputs": [
    {
     "name": "stdout",
     "output_type": "stream",
     "text": [
      "{0: 0, 1: 5, 2: 5, 3: 6, 4: 9, 5: 7, 6: 9, 7: 8}\n"
     ]
    }
   ],
   "source": [
    "def bellman_ford_list(WList, s):\n",
    "    size  = len(WList.keys())\n",
    "    # infinity = max([d for u in WList for _,d in WList[u]]) * size +1\n",
    "    infinity = float(\"inf\")\n",
    "    distance = {i: infinity for i in WList}\n",
    "    \n",
    "    distance[s] = 0\n",
    "    \n",
    "    for _ in WList.keys():\n",
    "        for u in WList.keys():\n",
    "            for v,d in WList[u]:\n",
    "                distance[v] = min([distance[v], distance[u] + d])\n",
    "    \n",
    "    \n",
    "    return distance\n",
    "\n",
    "edges = [(0,1,10),(0,7,8),(1,5,2),(2,1,1),(2,3,1),(3,4,3),(4,5,-1),(5,2,-2),(6,1,-4),(6,5,-1),(7,6,1)]\n",
    "# edges = [(0,1,10),(0,2,80),(1,2,6),(1,4,20),(2,3,70),(4,5,50),(4,6,5),(5,6,10)]  \n",
    "# {0: 0, 1: 10, 2: 16, 3: 86, 4: 30, 5: 80, 6: 35}\n",
    " \n",
    "size = max([edges[-1][0], edges[-1][1]]) + 1 # 8\n",
    "\n",
    "WL = {i: [] for i in range(size)}\n",
    "\n",
    "for i,j,d in edges:\n",
    "    WL[i].append((j,d))\n",
    "\n",
    "# print(WL)\n",
    "\n",
    "print(bellman_ford_list(WL,0))\n",
    "# {0: 0, 1: 5, 2: 5, 3: 6, 4: 9, 5: 7, 6: 9, 7: 8}"
   ]
  }
 ],
 "metadata": {
  "kernelspec": {
   "display_name": "Python 3",
   "language": "python",
   "name": "python3"
  },
  "language_info": {
   "codemirror_mode": {
    "name": "ipython",
    "version": 3
   },
   "file_extension": ".py",
   "mimetype": "text/x-python",
   "name": "python",
   "nbconvert_exporter": "python",
   "pygments_lexer": "ipython3",
   "version": "3.10.10"
  },
  "orig_nbformat": 4,
  "vscode": {
   "interpreter": {
    "hash": "c978eac7466799293404a0039d84fee54de10c289a27e33b3ff26b5b3fb1ea16"
   }
  }
 },
 "nbformat": 4,
 "nbformat_minor": 2
}
