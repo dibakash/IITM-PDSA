{
 "cells": [
  {
   "attachments": {},
   "cell_type": "markdown",
   "metadata": {},
   "source": [
    "Consider this Undirected Graph\n",
    "```mermaid\n",
    "flowchart LR;\n",
    "    0((0));1((1));2((2));3((3));4((4));\n",
    "\n",
    "    0 --- 1;\n",
    "    0 --- 2;\n",
    "    1 --- 3;\n",
    "    1 --- 4;\n",
    "    2 ---- 3;\n",
    "    2 --- 4;\n",
    "    3 --- 4;\n",
    "\n",
    "```"
   ]
  },
  {
   "cell_type": "code",
   "execution_count": 1,
   "metadata": {},
   "outputs": [],
   "source": [
    "V = [0,1,2,3,4]\n",
    "E = [(0, 1), (0, 2), (1, 3), (1, 4), (2, 4), (2, 3), (3, 4)]\n",
    "# expected Adjacency List\n",
    "# AList ={0: [1, 2], 1: [3, 4, 0], 2: [4, 3, 0], 3: [4, 1, 2], 4: [1, 2, 3]}"
   ]
  },
  {
   "attachments": {},
   "cell_type": "markdown",
   "metadata": {},
   "source": [
    "### Adjacency List and Adjacency Matrix"
   ]
  },
  {
   "cell_type": "code",
   "execution_count": 2,
   "metadata": {},
   "outputs": [
    {
     "name": "stdout",
     "output_type": "stream",
     "text": [
      "A_LIST {0: [1, 2], 1: [3, 4, 0], 2: [4, 3, 0], 3: [4, 1, 2], 4: [1, 2, 3]}\n",
      "A_MAT [[0, 1, 1, 0, 0],\n",
      " [1, 0, 0, 1, 1],\n",
      " [1, 0, 0, 1, 1],\n",
      " [0, 1, 1, 0, 1],\n",
      " [0, 1, 1, 1, 0]]\n"
     ]
    }
   ],
   "source": [
    "from pprint import pprint\n",
    "def aList(V,E):\n",
    "    res = {}\n",
    "    UE = E+ [(v,u) for u,v in E]    \n",
    "    for u,v in UE:\n",
    "        if u not in res:\n",
    "            res[u]= []\n",
    "        res[u].append(v)\n",
    "\n",
    "    return res\n",
    "\n",
    "def aMat(V,E):\n",
    "    size = len(V)\n",
    "    mat = [[0] * size for _ in range(size)]\n",
    "    \n",
    "    for u,v in E:\n",
    "        mat[u][v] = mat[v][u] = 1                \n",
    "    return mat\n",
    "\n",
    "A_LIST = aList(V,E)\n",
    "A_MAT = aMat(V,E)\n",
    "print('A_LIST',end =\" \")\n",
    "print(A_LIST)\n",
    "print('A_MAT',end =\" \")\n",
    "pprint(A_MAT)"
   ]
  },
  {
   "attachments": {},
   "cell_type": "markdown",
   "metadata": {},
   "source": [
    "### BFS for Adjacency List and Adjacency Matrix"
   ]
  },
  {
   "cell_type": "code",
   "execution_count": 3,
   "metadata": {},
   "outputs": [
    {
     "name": "stdout",
     "output_type": "stream",
     "text": [
      "Any vertex should be reachable from any vertex in an undirected connected graph\n",
      "BFS on Adjacency List\n",
      "[0] [1, 2] [2, 3, 4] [3, 4] [4] {0: True, 1: True, 2: True, 3: True, 4: True}\n",
      "\n",
      "BFS on Adjacency Matrix\n",
      "[0] [1, 2] [2, 3, 4] [3, 4] [4] {0: True, 1: True, 2: True, 3: True, 4: True}\n",
      "\n",
      "BFS on Adjacency List\n",
      "[4] [1, 2, 3] [2, 3, 0] [3, 0] [0] {4: True, 1: True, 2: True, 3: True, 0: True}\n",
      "\n",
      "BFS on Adjacency Matrix\n",
      "[4] [1, 2, 3] [2, 3, 0] [3, 0] [0] {4: True, 1: True, 2: True, 3: True, 0: True}\n",
      "\n",
      "A_LIST {0: [1, 2], 1: [3, 4, 0], 2: [4, 3, 0], 3: [4, 1, 2], 4: [1, 2, 3]}\n",
      "A_MAT\n",
      "[[0, 1, 1, 0, 0],\n",
      " [1, 0, 0, 1, 1],\n",
      " [1, 0, 0, 1, 1],\n",
      " [0, 1, 1, 0, 1],\n",
      " [0, 1, 1, 1, 0]]\n"
     ]
    }
   ],
   "source": [
    "def BFS_AL(A_LIST, starting_vertex):\n",
    "    \n",
    "    queue = [starting_vertex]\n",
    "    visited = {starting_vertex: True}\n",
    "    \n",
    "    while len(queue):\n",
    "        print(queue, end=\" \") # visualize queue\n",
    "        v = queue.pop(0)\n",
    "        # explore v\n",
    "        for u in A_LIST[v]:\n",
    "            if u not in visited:\n",
    "                # visit u\n",
    "                visited[u] = True\n",
    "                queue.append(u)\n",
    "    \n",
    "    return visited\n",
    "\n",
    "\n",
    "\n",
    "def BFS_MAT(A_MAT, starting_vertex):\n",
    "    queue = [starting_vertex]\n",
    "    visited = {starting_vertex: True}\n",
    "    \n",
    "    while len(queue):\n",
    "        print(queue, end=\" \") # visualize queue\n",
    "        v = queue.pop(0)\n",
    "        # explore v\n",
    "        for u in range(len(A_MAT[v])):\n",
    "            if A_MAT[v][u] == 1:\n",
    "                if u not in visited:\n",
    "                    # visit u\n",
    "                    visited[u] = True\n",
    "                    queue.append(u)\n",
    "    \n",
    "    return visited\n",
    "\n",
    "print(\"Any vertex should be reachable from any vertex in an undirected connected graph\")    \n",
    "print(\"BFS on Adjacency List\")\n",
    "print(BFS_AL(A_LIST,0))\n",
    "print()\n",
    "print(\"BFS on Adjacency Matrix\")\n",
    "print(BFS_MAT(A_MAT,0))\n",
    "print()\n",
    "print(\"BFS on Adjacency List\")\n",
    "print(BFS_AL(A_LIST,4))\n",
    "print()\n",
    "print(\"BFS on Adjacency Matrix\")\n",
    "print(BFS_MAT(A_MAT,4))\n",
    "\n",
    "print()\n",
    "print('A_LIST',end=\" \")\n",
    "pprint(A_LIST)\n",
    "print('A_MAT')\n",
    "pprint(A_MAT)"
   ]
  },
  {
   "attachments": {},
   "cell_type": "markdown",
   "metadata": {},
   "source": [
    "### BFS for Adjacency List and Adjacency Matrix with path"
   ]
  },
  {
   "cell_type": "code",
   "execution_count": 4,
   "metadata": {},
   "outputs": [
    {
     "name": "stdout",
     "output_type": "stream",
     "text": [
      "({0: True, 1: True, 2: True, 3: True, 4: True}, {0: -1, 1: 0, 2: 0, 3: 1, 4: 1})\n",
      "({0: True, 1: True, 2: True, 3: True, 4: True}, {0: -1, 1: 0, 2: 0, 3: 1, 4: 1})\n",
      "({4: True, 1: True, 2: True, 3: True, 0: True}, {4: -1, 1: 4, 2: 4, 3: 4, 0: 1})\n",
      "({4: True, 1: True, 2: True, 3: True, 0: True}, {4: -1, 1: 4, 2: 4, 3: 4, 0: 1})\n"
     ]
    }
   ],
   "source": [
    "def BFS_PATH_A_LIST(A_LIST, starting_vertex):\n",
    "    queue,visited,parents =[],{},{}\n",
    "    queue.append(starting_vertex)\n",
    "    visited[starting_vertex]= True\n",
    "    parents[starting_vertex]= -1\n",
    "    \n",
    "    while len(queue):\n",
    "        v = queue.pop(0)\n",
    "        for u in A_LIST[v]:\n",
    "            if u not in visited:\n",
    "                visited[u] = True\n",
    "                queue.append(u)\n",
    "                parents[u] = v\n",
    "    return visited, parents    \n",
    "    \n",
    "    \n",
    "def BFS_PATH_A_MAT(A_MAT, starting_vertex):\n",
    "    N = len(A_MAT)\n",
    "    queue,visited,parents =[],{},{}\n",
    "    queue.append(starting_vertex)\n",
    "    visited[starting_vertex]= True\n",
    "    parents[starting_vertex]= -1\n",
    "    \n",
    "    while len(queue):\n",
    "        v = queue.pop(0)\n",
    "        for u in range(N):\n",
    "            if u not in visited and A_MAT[v][u] == 1:\n",
    "                visited[u] = True\n",
    "                queue.append(u)\n",
    "                parents[u] = v\n",
    "    return visited, parents    \n",
    "print(BFS_PATH_A_LIST(A_LIST,0))  \n",
    "print(BFS_PATH_A_MAT(A_MAT,0))  \n",
    "print(BFS_PATH_A_LIST(A_LIST,4))  \n",
    "print(BFS_PATH_A_MAT(A_MAT,4))  "
   ]
  },
  {
   "attachments": {},
   "cell_type": "markdown",
   "metadata": {},
   "source": [
    "### BFS for Adjacency List and Adjacency Matrix with distances to each vertex from starting point"
   ]
  },
  {
   "cell_type": "code",
   "execution_count": 5,
   "metadata": {},
   "outputs": [
    {
     "name": "stdout",
     "output_type": "stream",
     "text": [
      "({0: 0, 1: 1, 2: 1, 3: 2, 4: 2}, {0: -1, 1: 0, 2: 0, 3: 1, 4: 1})\n",
      "({0: 0, 1: 1, 2: 1, 3: 2, 4: 2}, {0: -1, 1: 0, 2: 0, 3: 1, 4: 1})\n"
     ]
    }
   ],
   "source": [
    "def BFS_DISTANCE_A_LIST(A_LIST, starting_vertex):\n",
    "    queue,level,parents =[],{},{}\n",
    "\n",
    "    queue.append(starting_vertex)\n",
    "    level[starting_vertex]= 0\n",
    "    parents[starting_vertex]= -1\n",
    "    \n",
    "    while len(queue):\n",
    "        v = queue.pop(0)\n",
    "        for u in A_LIST[v]:\n",
    "            if u not in level:\n",
    "                level[u] = level[v] + 1\n",
    "                queue.append(u)\n",
    "                parents[u] = v\n",
    "    return level, parents    \n",
    "    \n",
    "    \n",
    "def BFS_DISTANCE_A_MAT(A_MAT, starting_vertex):\n",
    "    N = len(A_MAT)\n",
    "    queue,level,parents =[],{},{}\n",
    "    queue.append(starting_vertex)\n",
    "    level[starting_vertex]= 0\n",
    "    parents[starting_vertex]= -1\n",
    "    \n",
    "    while len(queue):\n",
    "        v = queue.pop(0)\n",
    "        for u in range(N):\n",
    "            if u not in level and A_MAT[v][u] == 1:\n",
    "                level[u] = level[v] + 1\n",
    "                queue.append(u)\n",
    "                parents[u] = v\n",
    "    return level, parents    \n",
    "print(BFS_DISTANCE_A_LIST(A_LIST,0))  \n",
    "print(BFS_DISTANCE_A_MAT(A_MAT,0))  "
   ]
  }
 ],
 "metadata": {
  "kernelspec": {
   "display_name": "Python 3",
   "language": "python",
   "name": "python3"
  },
  "language_info": {
   "codemirror_mode": {
    "name": "ipython",
    "version": 3
   },
   "file_extension": ".py",
   "mimetype": "text/x-python",
   "name": "python",
   "nbconvert_exporter": "python",
   "pygments_lexer": "ipython3",
   "version": "3.10.10"
  },
  "orig_nbformat": 4
 },
 "nbformat": 4,
 "nbformat_minor": 2
}
