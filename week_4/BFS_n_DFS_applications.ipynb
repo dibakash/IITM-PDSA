{
 "cells": [
  {
   "attachments": {},
   "cell_type": "markdown",
   "metadata": {},
   "source": [
    "# Applications of DFS and BFS"
   ]
  },
  {
   "attachments": {},
   "cell_type": "markdown",
   "metadata": {},
   "source": [
    "## 1. Finding Components in a Graph\n"
   ]
  },
  {
   "attachments": {},
   "cell_type": "markdown",
   "metadata": {},
   "source": [
    "Let's consider the following Graph\n",
    "\n",
    "![graph_comp.png](image/graph_comp.png)"
   ]
  },
  {
   "cell_type": "code",
   "execution_count": 108,
   "metadata": {},
   "outputs": [
    {
     "name": "stdout",
     "output_type": "stream",
     "text": [
      "{0: [1], 1: [2], 2: [0], 3: [4, 6], 4: [3, 7], 5: [3], 6: [5], 7: [4, 8], 8: [5, 9], 9: [8]}\n"
     ]
    }
   ],
   "source": [
    "AList = {0: [1], 1: [2], 2: [0], 3: [4, 6], 4: [3, 7], 5: [3], 6: [5], 7: [4, 8], 8: [5, 9], 9: [8]}\n",
    "print(AList)"
   ]
  },
  {
   "attachments": {},
   "cell_type": "markdown",
   "metadata": {},
   "source": [
    "### Identify Components using BFS or DFS"
   ]
  },
  {
   "cell_type": "code",
   "execution_count": 109,
   "metadata": {},
   "outputs": [
    {
     "name": "stdout",
     "output_type": "stream",
     "text": [
      "AList {0: [1], 1: [2], 2: [0], 3: [4, 6], 4: [3, 7], 5: [3], 6: [5], 7: [4, 8], 8: [5, 9], 9: [8]}\n",
      "running BFS\n",
      "component using BFS (style 0) {0: 0, 1: 0, 2: 0, 3: 1, 4: 1, 5: 1, 6: 1, 7: 1, 8: 1, 9: 1}\n",
      "running BFS\n",
      "component using BFS (style 1) {0: [0, 1, 2], 1: [3, 4, 5, 6, 7, 8, 9]}\n",
      "running DFS\n",
      "component using DFS (style 0) {0: 0, 1: 0, 2: 0, 3: 1, 4: 1, 5: 1, 6: 1, 7: 1, 8: 1, 9: 1}\n",
      "running DFS\n",
      "component using DFS (style 1) {0: [0, 1, 2], 1: [3, 4, 5, 6, 7, 8, 9]}\n"
     ]
    }
   ],
   "source": [
    "def BFS(AList, starting_vertex):\n",
    "    queue, visited= [starting_vertex], {i:False for i in AList}\n",
    "    visited[starting_vertex] = True\n",
    "    \n",
    "    while queue:\n",
    "        v = queue.pop(0)\n",
    "        for u in AList[v]:\n",
    "            if not visited[u]:\n",
    "                visited[u] = True\n",
    "                queue.append(u)\n",
    "    \n",
    "    return visited\n",
    "\n",
    "def DFS(AList, starting_vertex):\n",
    "    stack, visited = [starting_vertex], {i:False for i in AList}\n",
    "    \n",
    "    while stack:\n",
    "        v = stack.pop()\n",
    "        if not visited[v]:\n",
    "            visited[v] = True\n",
    "            for u in reversed(AList[v]):\n",
    "                if not visited[u]:\n",
    "                    stack.append(u)\n",
    "    \n",
    "    return visited\n",
    "\n",
    "def component(AList, style = 0, use=\"BFS\"):\n",
    "    components = {i:-1 for i in AList}\n",
    "    comp_ID, seen = 0,0\n",
    "    number_of_vertex = len(AList)\n",
    "    \n",
    "    while seen < number_of_vertex:\n",
    "        starting_vertex = min([i for i in AList if components[i] == -1])\n",
    "        \n",
    "        visited = BFS(AList,starting_vertex) if use==\"BFS\" else DFS(AList, starting_vertex)\n",
    "        \n",
    "        for i in visited:\n",
    "            if visited[i]:\n",
    "                components[i] = comp_ID\n",
    "                seen += 1\n",
    "                \n",
    "        comp_ID += 1\n",
    "    \n",
    "    alternate_style = {}\n",
    "    \n",
    "    for k,v in components.items():\n",
    "        \n",
    "        if v not in alternate_style:\n",
    "            alternate_style[v] = []\n",
    "        alternate_style[v].append(k)\n",
    "        \n",
    "    print(f\"running {use}\")\n",
    "    return components if not style else alternate_style\n",
    "    \n",
    "    \n",
    "\n",
    "AList = {0: [1], 1: [2], 2: [0], 3: [4, 6], 4: [3, 7], 5: [3], 6: [5], 7: [4, 8], 8: [5, 9], 9: [8]}\n",
    "print('AList', AList)\n",
    "\n",
    "\n",
    "print(\"component using BFS (style 0)\", component(AList,style=0, use='BFS'))\n",
    "print(\"component using BFS (style 1)\", component(AList,style=1, use='BFS'))\n",
    "print(\"component using DFS (style 0)\", component(AList,style=0, use='DFS'))\n",
    "print(\"component using DFS (style 1)\", component(AList,style=1, use='DFS'))\n"
   ]
  },
  {
   "attachments": {},
   "cell_type": "markdown",
   "metadata": {},
   "source": [
    "## 2. Detecting Cycles (Undirected Graphs)"
   ]
  },
  {
   "attachments": {},
   "cell_type": "markdown",
   "metadata": {},
   "source": [
    "![cyclic_graph.png](image/cyclic_graph.png)"
   ]
  },
  {
   "cell_type": "code",
   "execution_count": 110,
   "metadata": {},
   "outputs": [
    {
     "name": "stdout",
     "output_type": "stream",
     "text": [
      "[(0, 1), (1, 2), (1, 3), (1, 4), (1, 5), (2, 3), (3, 4), (4, 5)]\n"
     ]
    }
   ],
   "source": [
    "edges = [(0,1), (1,2), (1,3), (1,4),(1,5), (2,3), (3,4),(4,5)]\n",
    "print(edges)\n"
   ]
  },
  {
   "cell_type": "code",
   "execution_count": 111,
   "metadata": {},
   "outputs": [
    {
     "name": "stdout",
     "output_type": "stream",
     "text": [
      "AList {0: [1], 1: [2, 3, 4, 5, 0], 2: [3, 1], 3: [4, 1, 2], 4: [5, 1, 3], 5: [1, 4]}\n",
      "graph edges [(0, 1), (1, 2), (1, 3), (1, 4), (1, 5), (2, 3), (3, 4), (4, 5)]\n",
      "BFS {0: True, 1: True, 2: True, 3: True, 4: True, 5: True}, {0: -1, 1: 0, 2: 1, 3: 1, 4: 1, 5: 1}\n",
      "BFS Tree Edges [(0, 1), (1, 2), (1, 3), (1, 4), (1, 5)]\n",
      "DFS {0: True, 1: True, 2: True, 3: True, 4: True, 5: True}, {0: -1, 1: 0, 2: 1, 3: 2, 4: 3, 5: 4}\n",
      "DFS Tree Edges [(0, 1), (1, 2), (2, 3), (3, 4), (4, 5)]\n",
      "cycles_found_using_BFS [(2, 3), (4, 5), (3, 4)]\n",
      "cycles_found_using_DFS [(1, 3), (1, 4), (1, 5)]\n"
     ]
    }
   ],
   "source": [
    "\n",
    "def create_AList(edges):\n",
    "    AList = {}\n",
    "    \n",
    "    UE = edges+[(v,u) for u,v in edges]\n",
    "    for k,v in UE:\n",
    "        if k not in AList:\n",
    "            AList[k] = []\n",
    "        AList[k].append(v)\n",
    "    return AList\n",
    "\n",
    "\n",
    "def BFS_PATH(AList,starting_vertex):\n",
    "    visited, parent = {i:False for i in AList},{i: - 1 for i in AList}\n",
    "    queue = [starting_vertex]\n",
    "    visited[starting_vertex] = True\n",
    "    while queue:\n",
    "        v = queue.pop(0)\n",
    "        for u in AList[v]:\n",
    "            if not visited[u]:\n",
    "                queue.append(u)\n",
    "                visited[u] = True\n",
    "                parent[u] = v\n",
    "    \n",
    "    return visited, parent\n",
    "\n",
    "def DFS_PATH(AList, starting_vertex):\n",
    "    visited, parent = {i:False for i in AList}, {i: - 1 for i in AList}\n",
    "    stack= [starting_vertex]\n",
    "\n",
    "    while stack:\n",
    "        v = stack.pop()\n",
    "        if not visited[v]:\n",
    "            visited[v] = True\n",
    "            for u in AList[v][::-1]:\n",
    "                if not visited[u]:\n",
    "                    stack.append(u)\n",
    "                    parent[u] = v\n",
    "    return visited, parent\n",
    "\n",
    "\n",
    "                \n",
    "def get_tree_edges(parent):\n",
    "    tree_edges = []\n",
    "    for k,v in parent.items():\n",
    "        if v == -1:\n",
    "            continue\n",
    "        else:\n",
    "            tree_edges.extend([(v,k)])\n",
    "    return tree_edges\n",
    "\n",
    "def find_cycles(tree_edges, graph_edges):\n",
    "    return list(set(graph_edges).difference(set(tree_edges)))\n",
    "\n",
    "\n",
    "\n",
    "AList = create_AList(edges)\n",
    "\n",
    "BFS_visited, BFS_parent = BFS_PATH(AList, 0)\n",
    "BFS_tree_edges = get_tree_edges(BFS_parent)\n",
    "cycles_found_using_BFS = find_cycles(BFS_tree_edges, edges)\n",
    "\n",
    "\n",
    "DFS_visited, DFS_parent = DFS_PATH(AList, 0)\n",
    "DFS_tree_edges = get_tree_edges(DFS_parent)\n",
    "cycles_found_using_DFS = find_cycles(DFS_tree_edges, edges)\n",
    "\n",
    "print('AList',AList)\n",
    "\n",
    "print('graph edges', edges)\n",
    "print(f\"BFS {BFS_visited}, {BFS_parent}\") \n",
    "print('BFS Tree Edges', BFS_tree_edges)\n",
    "\n",
    "print(f\"DFS {DFS_visited}, {DFS_parent}\") \n",
    "print('DFS Tree Edges', DFS_tree_edges)\n",
    "\n",
    "print('cycles_found_using_BFS',cycles_found_using_BFS)\n",
    "print('cycles_found_using_DFS',cycles_found_using_DFS)\n"
   ]
  },
  {
   "cell_type": "markdown",
   "metadata": {},
   "source": [
    "![bfs_dfs_main.png](image/bfs_dfs_main.png)"
   ]
  },
  {
   "attachments": {},
   "cell_type": "markdown",
   "metadata": {},
   "source": [
    "## 3. Detecting Cycles (Directed Graphs) "
   ]
  },
  {
   "attachments": {},
   "cell_type": "markdown",
   "metadata": {},
   "source": [
    "```mermaid\n",
    "flowchart LR\n",
    "0((0));1((1));2((2));3((3));4((4));5((5));6((6));7((7));8((8));9((9))\n",
    "\n",
    "subgraph directed graph\n",
    "direction RL\n",
    "0 ---> 1\n",
    "0 ---> 4\n",
    "1 ---> 0\n",
    "4 ---> 0\n",
    "4 ----> 8\n",
    "4 ---> 9\n",
    "8 ---> 4\n",
    "8 ---> 9\n",
    "9 ---> 8\n",
    "9 ---> 4\n",
    "    2\n",
    "    3\n",
    "    5\n",
    "    6\n",
    "    7\n",
    "end\n",
    "\n",
    "```"
   ]
  },
  {
   "attachments": {},
   "cell_type": "markdown",
   "metadata": {},
   "source": [
    "### Pre and Post Numbering in DFS (USING STACKS)"
   ]
  },
  {
   "cell_type": "code",
   "execution_count": 112,
   "metadata": {},
   "outputs": [
    {
     "name": "stdout",
     "output_type": "stream",
     "text": [
      "{1: 0, 2: 1, 3: 2, 4: 5, 5: 6}\n",
      "{1: 9, 2: 4, 3: 3, 4: 8, 5: 7}\n",
      "{1: 0, 2: 1, 3: 2, 4: 5, 5: 6}\n",
      "{1: 9, 2: 4, 3: 3, 4: 8, 5: 7}\n",
      "{0: 0, 1: 1, 2: -1, 3: -1, 4: 3, 5: -1, 6: -1, 7: -1, 8: 4, 9: 5}\n",
      "{0: 9, 1: 2, 2: -1, 3: -1, 4: 8, 5: -1, 6: -1, 7: -1, 8: 7, 9: 6}\n",
      "{0: 0, 1: 1, 2: -1, 3: -1, 4: 3, 5: -1, 6: -1, 7: -1, 8: 4, 9: 5}\n",
      "{0: 9, 1: 2, 2: -1, 3: -1, 4: 8, 5: -1, 6: -1, 7: -1, 8: 7, 9: 6}\n"
     ]
    }
   ],
   "source": [
    "a = {1:[2,4],2:[3],3:[],4:[5],5:[]}\n",
    "A_List = {0: [1, 4],1: [0],2: [],3: [],4: [0, 8, 9],5: [],6: [],7: [],8: [4, 9],9: [8, 4]}\n",
    "\n",
    "def DFS_pre_post_single_stack(A_List, starting_vertex):\n",
    "    \"\"\"\n",
    "    Compute pre- and post-order traversal of a graph using a single stack Depth-First Search.\n",
    "\n",
    "    Args:\n",
    "        A_List (dict): An adjacency list representation of the graph.\n",
    "        starting_vertex (int): The index of the vertex to start the DFS from.\n",
    "\n",
    "    Returns:\n",
    "        Tuple of two dictionaries: pre and post, where pre[v] and post[v] store the\n",
    "        pre-order and post-order visit numbers of vertex v, respectively.\n",
    "\n",
    "    \"\"\"\n",
    "    # Initialize pre and post dictionaries with -1 values for each vertex in A_List\n",
    "    pre = {vertex: -1 for vertex in A_List}\n",
    "    post = {vertex: -1 for vertex in A_List}\n",
    "    \n",
    "    # Initialize visited dictionary with False value for each vertex in A_List\n",
    "    visited = {vertex: False for vertex in A_List}\n",
    "    \n",
    "    # Initialize stack with starting vertex\n",
    "    stack = [starting_vertex]\n",
    "    \n",
    "    # Initialize count variable to track pre/post values\n",
    "    count = 0\n",
    "    \n",
    "    while stack:\n",
    "        # Get the last vertex added to the stack (not removing it so that it can wait for post numbering)\n",
    "        current_vertex = stack[-1]\n",
    "        \n",
    "        if not visited[current_vertex]:\n",
    "            # Mark current vertex as visited and assign pre value\n",
    "            visited[current_vertex] = True\n",
    "            pre[current_vertex] = count\n",
    "            count += 1\n",
    "            \n",
    "            # Add unvisited neighbors of current vertex to the stack in reverse order\n",
    "            for neighbor in reversed(A_List[current_vertex]):\n",
    "                if not visited[neighbor]:\n",
    "                    stack.append(neighbor)\n",
    "        else:\n",
    "            # If current vertex has been visited before, assign post value and remove from stack\n",
    "            if post[current_vertex] == -1:\n",
    "                post[current_vertex] = count\n",
    "                count += 1\n",
    "            stack.pop()\n",
    "        \n",
    "    # Return pre and post dictionaries\n",
    "    return pre, post\n",
    "\n",
    "\n",
    "\n",
    "def DFS_pre_post_double_stack(A_List, starting_vertex):\n",
    "    \"\"\"\n",
    "    Compute pre- and post-order traversal of a graph using a double stack Depth-First Search.\n",
    "\n",
    "    Args:\n",
    "        A_List (dict): An adjacency list representation of the graph.\n",
    "        starting_vertex (int): The index of the vertex to start the DFS from.\n",
    "\n",
    "    Returns:\n",
    "        Tuple of two dictionaries: pre and post, where pre[v] and post[v] store the\n",
    "        pre-order and post-order visit numbers of vertex v, respectively.\n",
    "\n",
    "    \"\"\"\n",
    "    # Initialize pre- and post-order dictionaries with -1 values for all vertices\n",
    "    pre, post = {i:-1 for i in A_List}, {i: -1 for i in A_List}\n",
    "    # Initialize visited dictionary with False values for all vertices\n",
    "    visited = {i:False for i in A_List}\n",
    "    # Initialize pre- and post-order stacks with starting vertex and empty, respectively\n",
    "    pre_stack, post_stack = [starting_vertex], []\n",
    "\n",
    "    count = 0\n",
    "    # Keep iterating while either pre-stack or post-stack is not empty\n",
    "    while pre_stack or post_stack:\n",
    "        \n",
    "        # Process vertices in pre-stack until reaching a leaf vertex\n",
    "        while pre_stack:\n",
    "            v = pre_stack.pop()\n",
    "            if not visited[v]:\n",
    "                visited[v] =True\n",
    "                post_stack.append(v)\n",
    "                pre[v]  = count\n",
    "                count += 1\n",
    "                is_leaf = True\n",
    "                for u in A_List[v][::-1]:\n",
    "                    if not visited[u]:\n",
    "                        pre_stack.append(u)\n",
    "                        is_leaf = False\n",
    "            \n",
    "            if is_leaf:\n",
    "                break\n",
    "        \n",
    "        # Process vertices in post-stack until reaching an unprocessed vertex with all visited neighbors\n",
    "        while post_stack: \n",
    "            v = post_stack[-1]\n",
    "            if all(visited[u] for u in A_List[v]) and post[v] == -1:\n",
    "                v = post_stack.pop()\n",
    "                post[v] = count\n",
    "                count += 1\n",
    "            else:\n",
    "                break\n",
    "    \n",
    "    return pre, post\n",
    "\n",
    "\n",
    "\n",
    "    \n",
    "\n",
    "pre, post = DFS_pre_post_single_stack(a,1)\n",
    "print(pre)\n",
    "print(post)\n",
    "pre, post = DFS_pre_post_double_stack(a,1)\n",
    "print(pre)\n",
    "print(post)\n",
    "pre, post = DFS_pre_post_double_stack(A_List,0)\n",
    "print(pre)\n",
    "print(post)\n",
    "pre, post = DFS_pre_post_single_stack(A_List,0)\n",
    "print(pre)\n",
    "print(post)\n"
   ]
  },
  {
   "attachments": {},
   "cell_type": "markdown",
   "metadata": {},
   "source": [
    "### Pre and Post Numbering in DFS (Recursive)"
   ]
  },
  {
   "cell_type": "code",
   "execution_count": null,
   "metadata": {},
   "outputs": [],
   "source": []
  }
 ],
 "metadata": {
  "kernelspec": {
   "display_name": "Python 3",
   "language": "python",
   "name": "python3"
  },
  "language_info": {
   "codemirror_mode": {
    "name": "ipython",
    "version": 3
   },
   "file_extension": ".py",
   "mimetype": "text/x-python",
   "name": "python",
   "nbconvert_exporter": "python",
   "pygments_lexer": "ipython3",
   "version": "3.10.10"
  },
  "orig_nbformat": 4
 },
 "nbformat": 4,
 "nbformat_minor": 2
}
