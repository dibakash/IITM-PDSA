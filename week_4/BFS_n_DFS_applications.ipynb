{
 "cells": [
  {
   "attachments": {},
   "cell_type": "markdown",
   "metadata": {},
   "source": [
    "# Applications of DFS and BFS"
   ]
  },
  {
   "attachments": {},
   "cell_type": "markdown",
   "metadata": {},
   "source": [
    "## 1. Finding Components in a Graph\n"
   ]
  },
  {
   "attachments": {},
   "cell_type": "markdown",
   "metadata": {},
   "source": [
    "![components.png](image/components.png)"
   ]
  },
  {
   "attachments": {},
   "cell_type": "markdown",
   "metadata": {},
   "source": [
    "Let's consider the following Graph\n",
    "\n",
    "```mermaid\n",
    "\n",
    "flowchart TB\n",
    "1((1));2((2));3((3));4((4));5((5));6((6));7((7));8((8));\n",
    "\n",
    "subgraph .\n",
    "1 ---> 2 ---> 0 ---> 1\n",
    "end\n",
    "\n",
    "subgraph ,\n",
    "direction LR\n",
    "5 ---> 7 ---> 4 ---> 7 ---> 8 ---> 5 ---> 3 ---> 6 ---> 5\n",
    "3 ---> 4 ---> 3\n",
    "8 ---> 9 ---> 8\n",
    "end\n",
    "\n",
    "```"
   ]
  },
  {
   "cell_type": "code",
   "execution_count": 37,
   "metadata": {},
   "outputs": [
    {
     "name": "stdout",
     "output_type": "stream",
     "text": [
      "{0: [1], 1: [2], 2: [0], 3: [4, 6], 4: [3, 7], 5: [3], 6: [5], 7: [4, 8], 8: [5, 9], 9: [8]}\n"
     ]
    }
   ],
   "source": [
    "AList = {0: [1], 1: [2], 2: [0], 3: [4, 6], 4: [3, 7], 5: [3], 6: [5], 7: [4, 8], 8: [5, 9], 9: [8]}\n",
    "print(AList)"
   ]
  },
  {
   "attachments": {},
   "cell_type": "markdown",
   "metadata": {},
   "source": [
    "## Identify Components using BFS"
   ]
  },
  {
   "cell_type": "code",
   "execution_count": 40,
   "metadata": {},
   "outputs": [
    {
     "name": "stdout",
     "output_type": "stream",
     "text": [
      "{0: [1], 1: [2], 2: [0], 3: [4, 6], 4: [3, 7], 5: [3], 6: [5], 7: [4, 8], 8: [5, 9], 9: [8]}\n",
      "running BFS\n",
      "{0: 0, 1: 0, 2: 0, 3: 1, 4: 1, 5: 1, 6: 1, 7: 1, 8: 1, 9: 1}\n",
      "running BFS\n",
      "{0: [0, 1, 2], 1: [3, 4, 5, 6, 7, 8, 9]}\n",
      "running DFS\n",
      "{0: 0, 1: 0, 2: 0, 3: 1, 4: 1, 5: 1, 6: 1, 7: 1, 8: 1, 9: 1}\n",
      "running DFS\n",
      "{0: [0, 1, 2], 1: [3, 4, 5, 6, 7, 8, 9]}\n"
     ]
    }
   ],
   "source": [
    "def BFS(AList, starting_vertex):\n",
    "    queue, visited= [starting_vertex], {i:False for i in AList}\n",
    "    visited[starting_vertex] = True\n",
    "    \n",
    "    while queue:\n",
    "        v = queue.pop(0)\n",
    "        for u in AList[v]:\n",
    "            if not visited[u]:\n",
    "                visited[u] = True\n",
    "                queue.append(u)\n",
    "    \n",
    "    return visited\n",
    "\n",
    "def DFS(AList, starting_vertex):\n",
    "    stack, visited = [starting_vertex], {i:False for i in AList}\n",
    "    \n",
    "    while stack:\n",
    "        v = stack.pop()\n",
    "        if not visited[v]:\n",
    "            visited[v] = True\n",
    "            for u in reversed(AList[v]):\n",
    "                if not visited[u]:\n",
    "                    stack.append(u)\n",
    "    \n",
    "    return visited\n",
    "\n",
    "def component(AList, style = 0, use=\"BFS\"):\n",
    "    components = {i:-1 for i in AList}\n",
    "    comp_ID, seen = 0,0\n",
    "    number_of_vertex = len(AList)\n",
    "    \n",
    "    while seen < number_of_vertex:\n",
    "        starting_vertex = min([i for i in AList if components[i] == -1])\n",
    "        \n",
    "        visited = BFS(AList,starting_vertex) if use==\"BFS\" else DFS(AList, starting_vertex)\n",
    "        \n",
    "        for i in visited:\n",
    "            if visited[i]:\n",
    "                components[i] = comp_ID\n",
    "                seen += 1\n",
    "                \n",
    "        comp_ID += 1\n",
    "    \n",
    "    alternate_style = {}\n",
    "    \n",
    "    for k,v in components.items():\n",
    "        \n",
    "        if v not in alternate_style:\n",
    "            alternate_style[v] = []\n",
    "        alternate_style[v].append(k)\n",
    "        \n",
    "    print(f\"running {use}\")\n",
    "    return components if not style else alternate_style\n",
    "    \n",
    "    \n",
    "\n",
    "AList = {0: [1], 1: [2], 2: [0], 3: [4, 6], 4: [3, 7], 5: [3], 6: [5], 7: [4, 8], 8: [5, 9], 9: [8]}\n",
    "print(AList)\n",
    "\n",
    "print(component(AList,style=0, use='BFS'))\n",
    "print(component(AList,style=1, use='BFS'))\n",
    "print(component(AList,style=0, use='DFS'))\n",
    "print(component(AList,style=1, use='DFS'))\n"
   ]
  },
  {
   "attachments": {},
   "cell_type": "markdown",
   "metadata": {},
   "source": [
    "## Detecting Cycles (Undirected Graphs)"
   ]
  },
  {
   "attachments": {},
   "cell_type": "markdown",
   "metadata": {},
   "source": [
    "```mermaid\n",
    "flowchart LR\n",
    "\n",
    "0 --- 1 --- 2 --- 3 --- 4 --- 5 --- 1 --- 3\n",
    "1 --- 4\n",
    "\n",
    "```"
   ]
  },
  {
   "cell_type": "code",
   "execution_count": 61,
   "metadata": {},
   "outputs": [
    {
     "name": "stdout",
     "output_type": "stream",
     "text": [
      "[(0, 1), (1, 2), (1, 3), (1, 4), (1, 5), (2, 3), (3, 4), (4, 5)]\n"
     ]
    }
   ],
   "source": [
    "edges = [(0,1), (1,2), (1,3), (1,4),(1,5), (2,3), (3,4),(4,5)]\n",
    "print(edges)\n"
   ]
  },
  {
   "cell_type": "code",
   "execution_count": 74,
   "metadata": {},
   "outputs": [
    {
     "name": "stdout",
     "output_type": "stream",
     "text": [
      "AList {0: [1], 1: [2, 3, 4, 5, 0], 2: [3, 1], 3: [4, 1, 2], 4: [5, 1, 3], 5: [1, 4]}\n",
      "BFS {0: True, 1: True, 2: True, 3: True, 4: True, 5: True}, {0: -1, 1: 0, 2: 1, 3: 1, 4: 1, 5: 1}\n",
      "DFS {0: True, 1: True, 2: True, 3: True, 4: True, 5: True}, {0: -1, 1: 0, 2: 1, 3: 2, 4: 3, 5: 4}\n",
      "graph edges [(0, 1), (1, 2), (1, 3), (1, 4), (1, 5), (2, 3), (3, 4), (4, 5)]\n",
      "BFS Tree Edges [(0, 1), (1, 2), (1, 3), (1, 4), (1, 5)]\n",
      "DFS Tree Edges [(0, 1), (1, 2), (2, 3), (3, 4), (4, 5)]\n",
      "cycles_found_using_BFS [(2, 3), (3, 4), (4, 5)]\n",
      "cycles_found_using_DFS [(1, 3), (1, 4), (1, 5)]\n"
     ]
    }
   ],
   "source": [
    "AList = {}\n",
    "UE = edges+[(v,u) for u,v in edges]\n",
    "for k,v in UE:\n",
    "    if k not in AList:\n",
    "        AList[k] = []\n",
    "    AList[k].append(v)\n",
    "print('AList',AList)\n",
    "\n",
    "\n",
    "def BFS_PATH(AList,starting_vertex):\n",
    "    visited, parent = {i:False for i in AList},{i: - 1 for i in AList}\n",
    "    queue = [starting_vertex]\n",
    "    visited[starting_vertex] = True\n",
    "    while queue:\n",
    "        v = queue.pop(0)\n",
    "        for u in AList[v]:\n",
    "            if not visited[u]:\n",
    "                queue.append(u)\n",
    "                visited[u] = True\n",
    "                parent[u] = v\n",
    "    \n",
    "    return visited, parent\n",
    "\n",
    "def DFS_PATH(AList, starting_vertex):\n",
    "    visited, parent = {i:False for i in AList}, {i: - 1 for i in AList}\n",
    "    stack= [starting_vertex]\n",
    "\n",
    "    while stack:\n",
    "        v = stack.pop()\n",
    "        if not visited[v]:\n",
    "            visited[v] = True\n",
    "            for u in AList[v][::-1]:\n",
    "                if not visited[u]:\n",
    "                    stack.append(u)\n",
    "                    parent[u] = v\n",
    "    return visited, parent\n",
    "\n",
    "\n",
    "                \n",
    "BFS_visited, BFS_parent = BFS_PATH(AList, 0)\n",
    "DFS_visited, DFS_parent = DFS_PATH(AList, 0)\n",
    "print(f\"BFS {BFS_visited}, {BFS_parent}\") \n",
    "print(f\"DFS {DFS_visited}, {DFS_parent}\") \n",
    "\n",
    "\n",
    "\n",
    "def get_tree_edges(parent):\n",
    "    tree_edges = []\n",
    "    for k,v in parent.items():\n",
    "        if v == -1:\n",
    "            continue\n",
    "        else:\n",
    "            tree_edges.extend([(v,k)])\n",
    "    return tree_edges\n",
    "\n",
    "BFS_tree_edges = get_tree_edges(BFS_parent)\n",
    "DFS_tree_edges = get_tree_edges(DFS_parent)\n",
    "\n",
    "print('graph edges', edges)\n",
    "print('BFS Tree Edges', BFS_tree_edges)\n",
    "print('DFS Tree Edges', DFS_tree_edges)\n",
    "\n",
    "\n",
    "def find_cycles(tree_edges, graph_edges):\n",
    "    cycles = []\n",
    "    for tuple in graph_edges:\n",
    "        if tuple not in tree_edges:\n",
    "            cycles.append(tuple)\n",
    "    return cycles\n",
    "\n",
    "cycles_found_using_BFS=find_cycles(BFS_tree_edges, edges)\n",
    "cycles_found_using_DFS=find_cycles(DFS_tree_edges, edges)\n",
    "\n",
    "print('cycles_found_using_BFS',cycles_found_using_BFS)\n",
    "print('cycles_found_using_DFS',cycles_found_using_DFS)\n",
    "\n",
    "           "
   ]
  },
  {
   "attachments": {},
   "cell_type": "markdown",
   "metadata": {},
   "source": [
    "```mermaid\n",
    "flowchart TB;\n",
    "\n",
    "\n",
    "subgraph BFS TREE;\n",
    "direction TB\n",
    "'0' --- '1' \n",
    "'1' --- '2' \n",
    "'1' --- '3' \n",
    "'1' --- '4' \n",
    "'1' --- '5' \n",
    "end\n",
    "\n",
    "subgraph DFS TREE;\n",
    "direction TB\n",
    "0. --- 1. \n",
    "1. --- 2. \n",
    "2. --- 3. \n",
    "3. --- 4. \n",
    "4. --- 5. \n",
    "end\n",
    "\n",
    "subgraph main_Graph;\n",
    "direction TB;\n",
    "0 --- 1 --- 2 --- 3 --- 4 --- 5 --- 1 --- 3\n",
    "1 --- 4\n",
    "end\n",
    "```\n",
    "\n",
    "![bfs_dfs_main.png](image/bfs_dfs_main.png)"
   ]
  }
 ],
 "metadata": {
  "kernelspec": {
   "display_name": "Python 3",
   "language": "python",
   "name": "python3"
  },
  "language_info": {
   "codemirror_mode": {
    "name": "ipython",
    "version": 3
   },
   "file_extension": ".py",
   "mimetype": "text/x-python",
   "name": "python",
   "nbconvert_exporter": "python",
   "pygments_lexer": "ipython3",
   "version": "3.10.10"
  },
  "orig_nbformat": 4
 },
 "nbformat": 4,
 "nbformat_minor": 2
}
