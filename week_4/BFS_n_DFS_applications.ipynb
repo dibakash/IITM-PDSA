{
 "cells": [
  {
   "attachments": {},
   "cell_type": "markdown",
   "metadata": {},
   "source": [
    "# Applications of DFS and BFS"
   ]
  },
  {
   "attachments": {},
   "cell_type": "markdown",
   "metadata": {},
   "source": [
    "## 1. Finding Components in a Graph\n"
   ]
  },
  {
   "attachments": {},
   "cell_type": "markdown",
   "metadata": {},
   "source": [
    "Let's consider the following Graph\n",
    "\n",
    "```mermaid\n",
    "\n",
    "flowchart TB\n",
    "1((1));2((2));3((3));4((4));5((5));6((6));7((7));8((8));\n",
    "\n",
    "subgraph .\n",
    "1 ---> 2 ---> 0 ---> 1\n",
    "end\n",
    "\n",
    "subgraph ,\n",
    "direction LR\n",
    "7 ---> 4 ---> 7 ---> 8 ---> 5 ---> 3 ---> 6 ---> 5\n",
    "3 ---> 4 ---> 3\n",
    "8 ---> 9 ---> 8\n",
    "end\n",
    "\n",
    "```"
   ]
  },
  {
   "attachments": {},
   "cell_type": "markdown",
   "metadata": {},
   "source": [
    "Let's consider the following Graph\n",
    "\n",
    "```mermaid\n",
    "\n",
    "flowchart TB\n",
    "1((1));2((2));3((3));4((4));5((5));6((6));7((7));8((8));\n",
    "\n",
    "subgraph .\n",
    "1 ---> 2 ---> 0 ---> 1\n",
    "end\n",
    "\n",
    "subgraph ,\n",
    "direction LR\n",
    "5 ---> 7 ---> 4 ---> 7 ---> 8 ---> 5 ---> 3 ---> 6 ---> 5\n",
    "3 ---> 4 ---> 3\n",
    "8 ---> 9 ---> 8\n",
    "end\n",
    "\n",
    "```"
   ]
  },
  {
   "cell_type": "code",
   "execution_count": 3,
   "metadata": {},
   "outputs": [
    {
     "name": "stdout",
     "output_type": "stream",
     "text": [
      "{0: [1], 1: [2], 2: [0], 3: [4, 6], 4: [3, 7], 5: [3], 6: [5], 7: [4, 8], 8: [5, 9], 9: [8]}\n"
     ]
    }
   ],
   "source": [
    "AList = {0: [1], 1: [2], 2: [0], 3: [4, 6], 4: [3, 7], 5: [3], 6: [5], 7: [4, 8], 8: [5, 9], 9: [8]}\n",
    "print(AList)"
   ]
  },
  {
   "attachments": {},
   "cell_type": "markdown",
   "metadata": {},
   "source": [
    "## Identify Components using BFS"
   ]
  },
  {
   "cell_type": "code",
   "execution_count": 32,
   "metadata": {},
   "outputs": [
    {
     "name": "stdout",
     "output_type": "stream",
     "text": [
      "{0: [1], 1: [2], 2: [0], 3: [4, 6], 4: [3, 7], 5: [3], 6: [5], 7: [4, 8], 8: [5, 9], 9: [8]}\n",
      "{0: 0, 1: 0, 2: 0, 3: 1, 4: 1, 5: 1, 6: 1, 7: 1, 8: 1, 9: 1}\n",
      "{0: [0, 1, 2], 1: [3, 4, 5, 6, 7, 8, 9]}\n"
     ]
    }
   ],
   "source": [
    "def BFS(AList, starting_vertex):\n",
    "    queue, visited = [starting_vertex], {i:False for i in AList}\n",
    "    \n",
    "    visited[starting_vertex] = True\n",
    "    \n",
    "    while queue:\n",
    "        v = queue.pop(0)\n",
    "        for u in AList[v]:\n",
    "            if not visited[u]:\n",
    "                visited[u] = True\n",
    "                queue.append(u)\n",
    "    \n",
    "    return visited\n",
    "\n",
    "\n",
    "def components(AList, style = 0):\n",
    "    components = {i: - 1 for i in AList}\n",
    "    \n",
    "    component_id, seen = 0, 0\n",
    "    \n",
    "    while seen < len(AList):\n",
    "        startV = min([i for i in AList.keys() if components[i] == -1])\n",
    "        \n",
    "        visited = BFS(AList, startV)\n",
    "        \n",
    "        for i in visited.keys():\n",
    "            if visited[i]:\n",
    "                components[i] = component_id\n",
    "                seen += 1\n",
    "            \n",
    "        component_id += 1\n",
    "    \n",
    "    A = {}\n",
    "    \n",
    "    for k,v in components.items():\n",
    "        if v not in A:\n",
    "            A[v]= []\n",
    "        A[v].append(k)\n",
    "                \n",
    "    \n",
    "    return A if style else components\n",
    "\n",
    "AList = {0: [1], 1: [2], 2: [0], 3: [4, 6], 4: [3, 7], 5: [3], 6: [5], 7: [4, 8], 8: [5, 9], 9: [8]}\n",
    "print(AList)\n",
    "\n",
    "print(components(AList,style=0))\n",
    "print(components(AList,style=1))\n"
   ]
  }
 ],
 "metadata": {
  "kernelspec": {
   "display_name": "Python 3",
   "language": "python",
   "name": "python3"
  },
  "language_info": {
   "codemirror_mode": {
    "name": "ipython",
    "version": 3
   },
   "file_extension": ".py",
   "mimetype": "text/x-python",
   "name": "python",
   "nbconvert_exporter": "python",
   "pygments_lexer": "ipython3",
   "version": "3.10.10"
  },
  "orig_nbformat": 4
 },
 "nbformat": 4,
 "nbformat_minor": 2
}
