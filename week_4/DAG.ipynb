{
 "cells": [
  {
   "attachments": {},
   "cell_type": "markdown",
   "metadata": {},
   "source": [
    "# Directed Acyclic Graphs\n"
   ]
  },
  {
   "attachments": {},
   "cell_type": "markdown",
   "metadata": {},
   "source": [
    "## Task and Dependencies"
   ]
  },
  {
   "attachments": {},
   "cell_type": "markdown",
   "metadata": {},
   "source": [
    "DAG represents constraints as a Directed Graph\n",
    "* Vertices are tasks\n",
    "* Edge $(t,u)$ if task $t$ has to be completed before $(u)$\n",
    "\n",
    "A Directed Acyclic Graph(DAG) is a directed graph with no directed cycles. \n",
    "\n",
    "It consists of vertices and edges, with each edge directed from one vertex to another, such that following those directions will never form a closed loop.\n",
    "\n",
    "Directed acyclic graphs are a natural way to represent dependencies \n",
    "\n",
    "Arise in many contexts \n",
    "\n",
    "- Pre-requisites between courses for completing a degree \n",
    "- Recipe for cooking \n",
    "- Construction project\n",
    "\n",
    "Problems to be solved on DAGS \n",
    "\n",
    "- Topological sorting \n",
    "- Longest paths\n"
   ]
  },
  {
   "attachments": {},
   "cell_type": "markdown",
   "metadata": {},
   "source": [
    "## Topological Sorting"
   ]
  },
  {
   "attachments": {},
   "cell_type": "markdown",
   "metadata": {},
   "source": [
    "### Topological Sorting (Adjacency Matrix)"
   ]
  },
  {
   "attachments": {},
   "cell_type": "markdown",
   "metadata": {},
   "source": [
    "![graph_topo](image/graph_topo.png)"
   ]
  },
  {
   "cell_type": "code",
   "execution_count": 1,
   "metadata": {},
   "outputs": [
    {
     "name": "stdout",
     "output_type": "stream",
     "text": [
      "[0, 1, 2, 3, 4, 5, 6, 7]\n"
     ]
    }
   ],
   "source": [
    "import numpy as np\n",
    "\n",
    "def topoSort(AMat):\n",
    "    rows, cols = AMat.shape\n",
    "    indegree = {}\n",
    "    topo_sort_list = []\n",
    "    \n",
    "    # compute indegrees\n",
    "    for j in range(cols):\n",
    "        indegree[j] = 0\n",
    "        for i in range(rows):\n",
    "            if AMat[i,j] == 1:\n",
    "                indegree[j] += 1               \n",
    "    # Topo sort\n",
    "    for i in range(rows):\n",
    "        j = min([k for k in range(cols) if indegree[k] == 0])\n",
    "        topo_sort_list.append(j)\n",
    "        indegree[j] -= 1\n",
    "\n",
    "        for k in range(cols):\n",
    "            if AMat[j,k] == 1:\n",
    "                indegree[k] -= 1\n",
    "    return topo_sort_list\n",
    "\n",
    "\n",
    "edges=[(0,2),(0,3),(0,4),(1,2),(1,7),(2,5),(3,5),(3,7),(4,7),(5,6),(6,7)]\n",
    "size = 8\n",
    "AMat = np.zeros(shape=(size,size))\n",
    "for (i,j) in edges:\n",
    "    AMat[i,j] = 1\n",
    "print(topoSort(AMat))"
   ]
  },
  {
   "attachments": {},
   "cell_type": "markdown",
   "metadata": {},
   "source": [
    "### Topological Sorting (Adjacency List)"
   ]
  },
  {
   "cell_type": "code",
   "execution_count": 4,
   "metadata": {},
   "outputs": [
    {
     "name": "stdout",
     "output_type": "stream",
     "text": [
      "[0, 1, 2, 3, 4, 5, 6, 7]\n"
     ]
    }
   ],
   "source": [
    "\n",
    "def toposort_AList(AList):\n",
    "    zero_degree_queue = []\n",
    "    indegree = {}\n",
    "    toposort_list = []\n",
    "    \n",
    "    # compute indegrees \n",
    "    for u in AList.keys():\n",
    "        indegree[u] = 0\n",
    "        for v in AList[u]:\n",
    "            if v not in indegree:\n",
    "                indegree[v] = 0\n",
    "            indegree[v] += 1\n",
    "            \n",
    "    for u in AList.keys():\n",
    "        if indegree[u] == 0:\n",
    "            zero_degree_queue.append(u)\n",
    "    \n",
    "    while zero_degree_queue:\n",
    "        j = zero_degree_queue.pop(0)\n",
    "        indegree[j] -= 1\n",
    "        toposort_list.append(j)\n",
    "        \n",
    "        for k in AList[j]:\n",
    "            indegree[k]-= 1\n",
    "            if indegree[k] == 0:\n",
    "                zero_degree_queue.append(k)\n",
    "    \n",
    "    return toposort_list    \n",
    "    \n",
    "        \n",
    "AList={0: [2, 3, 4], 1: [2, 7], 2: [5], 3: [5, 7], 4: [7], 5: [6], 6: [7], 7: []}\n",
    "# print(toposortlist(AList))\n",
    "print(toposort_AList(AList))"
   ]
  },
  {
   "attachments": {},
   "cell_type": "markdown",
   "metadata": {},
   "source": [
    "## Longest Path"
   ]
  },
  {
   "cell_type": "code",
   "execution_count": 5,
   "metadata": {},
   "outputs": [
    {
     "name": "stdout",
     "output_type": "stream",
     "text": [
      "0\n",
      "1\n",
      "3\n",
      "4\n",
      "2\n",
      "5\n",
      "6\n",
      "7\n",
      "{0: 0, 1: 0, 2: 1, 3: 1, 4: 1, 5: 2, 6: 3, 7: 4}\n"
     ]
    }
   ],
   "source": [
    "\n",
    "AList={0: [2, 3, 4], 1: [2, 7], 2: [5], 3: [5, 7], 4: [7], 5: [6], 6: [7], 7: []}\n",
    "\n",
    "def longest_path_list(AList):\n",
    "    queue, indegree, longest_path = [], {}, {}\n",
    "    \n",
    "    for i in AList.keys():\n",
    "        indegree[i] = 0\n",
    "        longest_path[i] = 0\n",
    "    \n",
    "    for u in AList.keys():\n",
    "        for v in AList[u]:\n",
    "            indegree[v] += 1\n",
    "    \n",
    "    for i in AList.keys():\n",
    "        if indegree[i] == 0:\n",
    "            queue.append(i)     \n",
    "    \n",
    "    while queue:\n",
    "        u = queue.pop(0)\n",
    "        print(u)\n",
    "        indegree[u] -= 1\n",
    "        \n",
    "        \n",
    "        for v in AList[u]:\n",
    "            indegree[v] -= 1\n",
    "            longest_path[v] = max(longest_path[v], longest_path[u] + 1)\n",
    "\n",
    "            if indegree[v] == 0:\n",
    "                queue.append(v)\n",
    "        \n",
    "    return longest_path        \n",
    "        \n",
    "        \n",
    "\n",
    "print(longest_path_list(AList))"
   ]
  }
 ],
 "metadata": {
  "kernelspec": {
   "display_name": "Python 3",
   "language": "python",
   "name": "python3"
  },
  "language_info": {
   "codemirror_mode": {
    "name": "ipython",
    "version": 3
   },
   "file_extension": ".py",
   "mimetype": "text/x-python",
   "name": "python",
   "nbconvert_exporter": "python",
   "pygments_lexer": "ipython3",
   "version": "3.10.10"
  },
  "orig_nbformat": 4
 },
 "nbformat": 4,
 "nbformat_minor": 2
}
