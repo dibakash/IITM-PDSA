{
 "cells": [
  {
   "attachments": {},
   "cell_type": "markdown",
   "metadata": {},
   "source": [
    "# Directed Acyclic Graphs\n"
   ]
  },
  {
   "attachments": {},
   "cell_type": "markdown",
   "metadata": {},
   "source": [
    "## Task and Dependencies"
   ]
  },
  {
   "attachments": {},
   "cell_type": "markdown",
   "metadata": {},
   "source": [
    "DAG represents constraints as a Directed Graph\n",
    "* Vertices are tasks\n",
    "* Edge $(t,u)$ if task $t$ has to be completed before $(u)$\n",
    "\n",
    "A Directed Acyclic Graph(DAG) is a directed graph with no directed cycles. \n",
    "\n",
    "It consists of vertices and edges, with each edge directed from one vertex to another, such that following those directions will never form a closed loop.\n",
    "\n",
    "Directed acyclic graphs are a natural way to represent dependencies \n",
    "\n",
    "Arise in many contexts \n",
    "\n",
    "- Pre-requisites between courses for completing a degree \n",
    "- Recipe for cooking \n",
    "- Construction project\n",
    "\n",
    "Problems to be solved on DAGS \n",
    "\n",
    "- Topological sorting \n",
    "- Longest paths\n"
   ]
  },
  {
   "attachments": {},
   "cell_type": "markdown",
   "metadata": {},
   "source": [
    "## Topological Sorting"
   ]
  },
  {
   "cell_type": "markdown",
   "metadata": {},
   "source": []
  }
 ],
 "metadata": {
  "kernelspec": {
   "display_name": "Python 3",
   "language": "python",
   "name": "python3"
  },
  "language_info": {
   "codemirror_mode": {
    "name": "ipython",
    "version": 3
   },
   "file_extension": ".py",
   "mimetype": "text/x-python",
   "name": "python",
   "nbconvert_exporter": "python",
   "pygments_lexer": "ipython3",
   "version": "3.10.10"
  },
  "orig_nbformat": 4
 },
 "nbformat": 4,
 "nbformat_minor": 2
}
