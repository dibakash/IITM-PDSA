{
  "nbformat": 4,
  "nbformat_minor": 0,
  "metadata": {
    "colab": {
      "provenance": [],
      "authorship_tag": "ABX9TyPJj2a1V1Y9JdVqVq/fyuOX",
      "include_colab_link": true
    },
    "kernelspec": {
      "name": "python3",
      "display_name": "Python 3"
    },
    "language_info": {
      "name": "python"
    }
  },
  "cells": [
    {
      "cell_type": "markdown",
      "metadata": {
        "id": "view-in-github",
        "colab_type": "text"
      },
      "source": [
        "<a href=\"https://colab.research.google.com/github/dibakash/IITM-PDSA/blob/main/testing_latex.ipynb\" target=\"_parent\"><img src=\"https://colab.research.google.com/assets/colab-badge.svg\" alt=\"Open In Colab\"/></a>"
      ]
    },
    {
      "cell_type": "markdown",
      "source": [
        "> $ = 10^{18} / 10^7 = 10^{11} $ seconds!\n",
        "> <br> $ \\Rightarrow 10^{11} \\div 60 \\approx 1.67 \\times 10^9 $ mins\n",
        "> <br> $ \\Rightarrow 1.67 \\times 10^9 \\div 60 \\approx 2.78 \\times 10^7 $ hours\n",
        "> <br> $ \\Rightarrow 2.78 \\times 10^7 \\div 24 \\approx 1158333 $ days\n",
        "> <br> $ \\approx 3200 $ Years! ⌛🛸 🤣\n",
        "\n",
        "---\n",
        "\n",
        "> $=10^{18}/10^7=10^{11} $ seconds!\n",
        "> <br>$\\Rightarrow 10^{11}/ 60\\approx1.67\\times 10^9 $ mins\n",
        "> <br>$\\Rightarrow 1.67\\times 10^9 / 60 \\approx 2.78 \\times 10^7 $ hours\n",
        "> <br> $\\Rightarrow 2.78\\times 10^7 / 24 \\approx 1158333 $ days\n",
        "> <br> $\\approx 3200 $ Years! ⌛🛸 🤣\n"
      ],
      "metadata": {
        "id": "6ellnJfnnqzx"
      }
    }
  ]
}