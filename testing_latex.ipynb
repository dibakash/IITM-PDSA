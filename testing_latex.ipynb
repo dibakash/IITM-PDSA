{
  "nbformat": 4,
  "nbformat_minor": 0,
  "metadata": {
    "colab": {
      "provenance": [],
      "authorship_tag": "ABX9TyOgE+Yb5MOh1cpA7yRY8RwR",
      "include_colab_link": true
    },
    "kernelspec": {
      "name": "python3",
      "display_name": "Python 3"
    },
    "language_info": {
      "name": "python"
    }
  },
  "cells": [
    {
      "cell_type": "markdown",
      "metadata": {
        "id": "view-in-github",
        "colab_type": "text"
      },
      "source": [
        "<a href=\"https://colab.research.google.com/github/dibakash/IITM-PDSA/blob/main/testing_latex.ipynb\" target=\"_parent\"><img src=\"https://colab.research.google.com/assets/colab-badge.svg\" alt=\"Open In Colab\"/></a>"
      ]
    },
    {
      "cell_type": "markdown",
      "source": [
        "$=10^{18}/10^7=10^{11} $ seconds!\n",
        " \n",
        "$\\Rightarrow 10^{11}/ 60\\approx1.67\\times 10^9 $ mins\n",
        " \n",
        "$\\Rightarrow 1.67\\times 10^9 / 60 \\approx 2.78 \\times 10^7 $ hours\n",
        " \n",
        "$\\Rightarrow 2.78\\times 10^7 / 24 \\approx 1158333 $ days\n",
        " \n",
        "$\\approx 3200 $ Years! ⌛🛸 🤣"
      ],
      "metadata": {
        "id": "6ellnJfnnqzx"
      }
    }
  ]
}