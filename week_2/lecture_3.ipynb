{
 "cells": [
  {
   "attachments": {},
   "cell_type": "markdown",
   "metadata": {},
   "source": [
    "# Calculating Complexity - Examples\n",
    "\n",
    "<!-- Notes maintained by: Dibakash Baruah -->\n",
    "\n",
    "Typically there will be two types of code that we look at.\n",
    "\n",
    "- **Iterative Programs**\n",
    "- **Recursive Programs**\n",
    "\n"
   ]
  },
  {
   "cell_type": "markdown",
   "metadata": {},
   "source": [
    "## Iterative Programs Example\n",
    "\n",
    "---\n",
    "\n",
    "Example 1: Find the maximum element in a list:\n",
    "\n",
    "- The input size is the length of the list\n",
    "- Single loop scans all elements\n",
    "- Always takes n steps\n",
    "- Overall time is $O(n)$\n",
    "\n",
    "This has worst-case $O(n)$ but in some sense it is in every case $O(n)$\n"
   ]
  },
  {
   "cell_type": "code",
   "execution_count": null,
   "metadata": {},
   "outputs": [],
   "source": [
    "def maxElement(L):\n",
    "    \"\"\"Finds the maximum element in a list\n",
    "    Args:\n",
    "        L (list): list of elements\n",
    "\n",
    "    Returns:\n",
    "        int: max element in the list\n",
    "    \"\"\"\n",
    "    maxval = L[0]\n",
    "    for i in range(len(L)):\n",
    "        if L[i] > maxval:\n",
    "            maxval = L[i]\n",
    "    return maxval"
   ]
  },
  {
   "attachments": {},
   "cell_type": "markdown",
   "metadata": {},
   "source": [
    "Example 2: Check whether a list contains duplicates:\n",
    "\n",
    "- The input size is the length of the list\n",
    "- Nested loops scan all the pairs of elements\n",
    "- A duplicate may be found in the very first iteration (best scenario)\n",
    "- Worst case - no duplicates. In other words, both loops run fully\n",
    "- Time is $(n-1)+(n-2)+...+1 = {n(n-1)\\over 2}$\n",
    "- Overall time is $n^2$\n",
    "- (We are looking at the worst-case)"
   ]
  },
  {
   "cell_type": "code",
   "execution_count": null,
   "metadata": {},
   "outputs": [],
   "source": [
    "def noDuplicates(L):\n",
    "    \"\"\"Check whether a list contains duplicates\n",
    "\n",
    "    Args:\n",
    "        L (list): list\n",
    "    \"\"\"\n",
    "    for i in range(len(L)-1):\n",
    "        for j in range(i+1,len(L)):\n",
    "            if L[i] == L[j]:\n",
    "                return True\n",
    "    return False"
   ]
  },
  {
   "cell_type": "code",
   "execution_count": null,
   "metadata": {},
   "outputs": [],
   "source": [
    "L1 = [1,3,1,3,4,5]\n",
    "L2 = [1,2,3,4,5,6,7,12]\n",
    "\n",
    "print(noDuplicates(L1))\n",
    "print(noDuplicates(L2))"
   ]
  },
  {
   "attachments": {},
   "cell_type": "markdown",
   "metadata": {},
   "source": [
    "Example 3: Matrix Multiplication\n",
    "\n",
    "- Matrix is represented as a list of lists\n",
    "\n",
    "  - $$\n",
    "    \\begin{bmatrix}\n",
    "    1&2&3\\\\\n",
    "    4&5&6\n",
    "    \\end{bmatrix}\n",
    "    $$\n",
    "  - $$[[1,2,3],[4,5,6]]$$\n",
    "\n",
    "- Input matrices have size $m\\times n, n\\times p$\n",
    "\n",
    "- Output matrices have size $m \\times p$\n",
    "- Three nested loops\n",
    "- Overall time is $O(mnp)$, and $O(n^3)$ if both matrices are $n \\times n$"
   ]
  },
  {
   "cell_type": "code",
   "execution_count": 1,
   "metadata": {},
   "outputs": [],
   "source": [
    "from pprint import pprint\n",
    "\n",
    "\n",
    "class incompatibleMatrices(Exception):\n",
    "    def __str__(self):\n",
    "        return \"Matrices are not compatible. Check inputs\"\n",
    "\n",
    "    pass\n",
    "\n",
    "def matrixMultiply(A, B):\n",
    "    try:\n",
    "        if len(A[0]) != len(B):\n",
    "            raise incompatibleMatrices\n",
    "\n",
    "        m, n, p = len(A), len(B), len(B[0])\n",
    "\n",
    "        C = [[0] * p for _ in range(m)]\n",
    "\n",
    "        for i in range(m):\n",
    "            for j in range(p):\n",
    "                for k in range(n):\n",
    "                    C[i][j] += A[i][k] * B[k][j]\n",
    "\n",
    "        return C\n",
    "\n",
    "    except incompatibleMatrices:\n",
    "        print(\"matrices are not compatible, check input\")\n"
   ]
  },
  {
   "cell_type": "code",
   "execution_count": 5,
   "metadata": {},
   "outputs": [
    {
     "name": "stdout",
     "output_type": "stream",
     "text": [
      "[[1, 2, 3],\n",
      " [2, 4, 6],\n",
      " [3, 6, 9]]\n"
     ]
    }
   ],
   "source": [
    "a = [[1],[2],[3]]\n",
    "b = [[1,2,3]]\n",
    "\n",
    "pprint(matrixMultiply(a,b), width = 20)"
   ]
  },
  {
   "attachments": {},
   "cell_type": "markdown",
   "metadata": {},
   "source": [
    "Example 4: Number of bits in the binary representation of $n$\n",
    "\n",
    "- $\\log n$ steps for $n$ to reach 1\n",
    "- For number theoretic problems, the input size is the number of digits.\n",
    "\n",
    "  > (Number theoretic problems are problems that involve the properties and behavior of numbers, particularly integers. These types of problems can include questions about the divisibility of numbers, the distribution of primes, and the solution of Diophantine equations (equations where the solutions are required to be integers). Examples of number theoretic problems include Goldbach's Conjecture, Fermat's Last Theorem, and the Riemann Hypothesis. Number theory is an active area of mathematical research and many number theoretic problems remain unsolved.)\n",
    "\n",
    "- The algorithm is linear in the input size"
   ]
  },
  {
   "cell_type": "code",
   "execution_count": 1,
   "metadata": {},
   "outputs": [],
   "source": [
    "def numberOfBits(n):\n",
    "    count = 1\n",
    "    \n",
    "    while n > 1:\n",
    "        count += 1\n",
    "        n //= 2\n",
    "    \n",
    "    return count\n",
    "    "
   ]
  },
  {
   "attachments": {},
   "cell_type": "markdown",
   "metadata": {},
   "source": [
    "note:\n",
    "\n",
    "> - To find the number of digits in the binary representation of $n$, we keep dividing $n$ by 2 and we get each bit as we go along till we reach 1.\n",
    ">\n",
    "> - In other words, the number of times it takes to halve $n$ down to 1 which is basically $\\log n$\n",
    ">\n",
    "> - For a list type of input, where the input is of size $n$, a function which takes order of $\\log n$ would be considered very efficient.\n",
    ">\n",
    "> - But, for number theoretic problems like above we should not consider $n$ as the input size itself. We should rather look at how much space it requires to write down $n$, which is roughly the number of digits in $n$\n",
    ">\n",
    "> - We are saying that the number of digits is proportional to $\\log n$ and the output is taking $\\log n$ to compute. So, this is actually a linear function. (Even though it seems like it is taking $\\log n$ time, $\\log n$ itself is the size of the input.)\n",
    ">\n",
    "> - One thing we have to realize is that we might be writing it in decimal and taking it out in binary. i.e. we are considering $\\log _{10} n$ as input and output as $\\log _2 n$. It is not difficult to see that these two are connected by a constant factor. Because, $\\log$ of any $n$ to any base, is order of $\\log$ of $n$ to any other base. So, we can say this is in order $O(\\log _2 n)$. The input is in base 10, i.e. the size is the number of digits written in decimal and the output is logarithmic to base 2; but they are of both of same order of magnitude.\n",
    "\n",
    "Description:\n",
    "\n",
    "> - It is important to consider the base of the logarithm. For example, if we are working with the logarithm of a number in base 10 (written as $\\log_{10}n$), it is equivalent to working with the logarithm of the same number in base 2 (written as $\\log_{2}n$) by dividing $\\log_{10}n$ by $\\log_{10}2$ (a constant factor), and therefore have the same order of magnitude. This means that regardless of whether the input is written in base 10 or base 2, the output will be logarithmic to base 2 and will be of the same order of magnitude.\n",
    ">\n",
    "> - The concept related to this is the logarithm change of base formula. It states that for any two positive number bases $a$ and $b$, and for any positive number $x$, the following equation holds:\n",
    ">\n",
    "> - $\\log _a x = {\\log _b x \\over \\log _b a}$\n",
    ">\n",
    "> - $\\log _2 n = {1  \\over \\log _{10} 2}\\cdot \\log _{10} n$\n",
    ">\n",
    "> - This formula allows us to convert logarithms from one base to another, which is useful when working with different bases or when comparing the order of magnitude of logarithms with different bases.\n",
    ">\n",
    "> For example, if we have an algorithm that has a time complexity of $O(\\log _{10}n)$, we can use the logarithm change of base formula to convert it to $O(\\log _{2}n)$ by dividing $\\log _{10}n$ by $\\log _{10}2$ and we'll get the same order of magnitude, $O(\\log _{2}n)$, and it's more common to use $\\log _2 n$ in the analysis of algorithm complexity.\n",
    ">\n",
    "> In other words, the base of the logarithm does not change the order of magnitude of the logarithm, so it's more convenient to use a base that has more common usage $\\log _2 n$\n"
   ]
  }
 ],
 "metadata": {
  "kernelspec": {
   "display_name": "Python 3",
   "language": "python",
   "name": "python3"
  },
  "language_info": {
   "codemirror_mode": {
    "name": "ipython",
    "version": 3
   },
   "file_extension": ".py",
   "mimetype": "text/x-python",
   "name": "python",
   "nbconvert_exporter": "python",
   "pygments_lexer": "ipython3",
   "version": "3.10.9"
  },
  "orig_nbformat": 4,
  "vscode": {
   "interpreter": {
    "hash": "c978eac7466799293404a0039d84fee54de10c289a27e33b3ff26b5b3fb1ea16"
   }
  }
 },
 "nbformat": 4,
 "nbformat_minor": 2
}
