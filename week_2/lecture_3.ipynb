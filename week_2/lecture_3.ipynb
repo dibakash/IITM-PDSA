{
 "cells": [
  {
   "attachments": {},
   "cell_type": "markdown",
   "metadata": {},
   "source": [
    "# Calculating Complexity - Examples\n",
    "\n",
    "<!-- Notes maintained by: Dibakash Baruah -->\n",
    "\n",
    "\n",
    "Typically there will be two types of code that we look at.  \n",
    "\n",
    "- **Iterative Programs** \n",
    "- **Recursive Programs**\n",
    "\n",
    "\n",
    "\n",
    "## Iterative Programs Example\n",
    "\n",
    "\n"
   ]
  },
  {
   "attachments": {},
   "cell_type": "markdown",
   "metadata": {},
   "source": [
    "Find the maximum element in a list\n",
    "\n",
    "- Input size is the length of the list\n",
    "- Single loop scans all elements\n",
    "- Always takes n steps\n",
    "- Overall time is $O(n)$"
   ]
  },
  {
   "cell_type": "code",
   "execution_count": 4,
   "metadata": {},
   "outputs": [],
   "source": [
    "def maxElement(L):\n",
    "    \"\"\"Finds the maximum element in a list\n",
    "    Args:\n",
    "        L (list): list of elements\n",
    "\n",
    "    Returns:\n",
    "        int: max element in the list\n",
    "    \"\"\"\n",
    "    maxval = L[0]\n",
    "    for i in range(len(L)):\n",
    "        if L[i] > maxval:\n",
    "            maxval = L[i]\n",
    "    return maxval"
   ]
  },
  {
   "cell_type": "code",
   "execution_count": 6,
   "metadata": {},
   "outputs": [
    {
     "name": "stdout",
     "output_type": "stream",
     "text": [
      "23\n"
     ]
    }
   ],
   "source": [
    "L = [1,2,4,1,23,1,2,3]\n",
    "m = maxElement(L)\n",
    "print(m)"
   ]
  }
 ],
 "metadata": {
  "kernelspec": {
   "display_name": "Python 3",
   "language": "python",
   "name": "python3"
  },
  "language_info": {
   "codemirror_mode": {
    "name": "ipython",
    "version": 3
   },
   "file_extension": ".py",
   "mimetype": "text/x-python",
   "name": "python",
   "nbconvert_exporter": "python",
   "pygments_lexer": "ipython3",
   "version": "3.10.9"
  },
  "orig_nbformat": 4,
  "vscode": {
   "interpreter": {
    "hash": "c978eac7466799293404a0039d84fee54de10c289a27e33b3ff26b5b3fb1ea16"
   }
  }
 },
 "nbformat": 4,
 "nbformat_minor": 2
}
