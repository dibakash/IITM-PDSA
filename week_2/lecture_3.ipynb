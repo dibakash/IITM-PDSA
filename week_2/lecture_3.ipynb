{
 "cells": [
  {
   "attachments": {},
   "cell_type": "markdown",
   "metadata": {},
   "source": [
    "# Calculating Complexity - Examples\n",
    "\n",
    "<!-- Notes maintained by: Dibakash Baruah -->\n",
    "\n",
    "Typically there will be two types of code that we look at.\n",
    "\n",
    "- **Iterative Programs**\n",
    "- **Recursive Programs**\n",
    "\n"
   ]
  },
  {
   "cell_type": "markdown",
   "metadata": {},
   "source": [
    "## Iterative Programs Example\n",
    "\n",
    "---\n",
    "\n",
    "Example 1: Find the maximum element in a list:\n",
    "\n",
    "- The input size is the length of the list\n",
    "- Single loop scans all elements\n",
    "- Always takes n steps\n",
    "- Overall time is $O(n)$\n",
    "\n",
    "This has worst-case $O(n)$ but in some sense it is in every case $O(n)$\n"
   ]
  },
  {
   "cell_type": "code",
   "execution_count": null,
   "metadata": {},
   "outputs": [],
   "source": [
    "def maxElement(L):\n",
    "    \"\"\"Finds the maximum element in a list\n",
    "    Args:\n",
    "        L (list): list of elements\n",
    "\n",
    "    Returns:\n",
    "        int: max element in the list\n",
    "    \"\"\"\n",
    "    maxval = L[0]\n",
    "    for i in range(len(L)):\n",
    "        if L[i] > maxval:\n",
    "            maxval = L[i]\n",
    "    return maxval"
   ]
  },
  {
   "attachments": {},
   "cell_type": "markdown",
   "metadata": {},
   "source": [
    "Example 2: Check whether a list contains duplicates:\n",
    "\n",
    "- The input size is the length of the list\n",
    "- Nested loops scan all the pairs of elements\n",
    "- A duplicate may be found in the very first iteration (best scenario)\n",
    "- Worst case - no duplicates. In other words, both loops run fully\n",
    "- Time is $(n-1)+(n-2)+...+1 = {n(n-1)\\over 2}$\n",
    "- Overall time is $n^2$\n",
    "- (We are looking at the worst-case)"
   ]
  },
  {
   "cell_type": "code",
   "execution_count": null,
   "metadata": {},
   "outputs": [],
   "source": [
    "def noDuplicates(L):\n",
    "    \"\"\"Check whether a list contains duplicates\n",
    "\n",
    "    Args:\n",
    "        L (list): list\n",
    "    \"\"\"\n",
    "    for i in range(len(L)-1):\n",
    "        for j in range(i+1,len(L)):\n",
    "            if L[i] == L[j]:\n",
    "                return True\n",
    "    return False"
   ]
  },
  {
   "cell_type": "code",
   "execution_count": null,
   "metadata": {},
   "outputs": [],
   "source": [
    "L1 = [1,3,1,3,4,5]\n",
    "L2 = [1,2,3,4,5,6,7,12]\n",
    "\n",
    "print(noDuplicates(L1))\n",
    "print(noDuplicates(L2))"
   ]
  },
  {
   "attachments": {},
   "cell_type": "markdown",
   "metadata": {},
   "source": [
    "Example 3: Matrix Multiplication\n",
    "\n",
    "- Matrix is represented as a list of lists\n",
    "\n",
    "  - $$\n",
    "    \\begin{bmatrix}\n",
    "    1&2&3\\\\\n",
    "    4&5&6\n",
    "    \\end{bmatrix}\n",
    "    $$\n",
    "  - $$[[1,2,3],[4,5,6]]$$\n",
    "\n",
    "- Input matrices have size $m\\times n, n\\times p$\n",
    "\n",
    "- Output matrices have size $m \\times p$\n",
    "- Three nested loops\n",
    "- Overall time is $O(mnp)$, and $O(n^3)$ if both matrices are $n \\times n$"
   ]
  },
  {
   "cell_type": "code",
   "execution_count": 1,
   "metadata": {},
   "outputs": [],
   "source": [
    "from pprint import pprint\n",
    "\n",
    "\n",
    "class incompatibleMatrices(Exception):\n",
    "    def __str__(self):\n",
    "        return \"Matrices are not compatible. Check inputs\"\n",
    "\n",
    "    pass\n",
    "\n",
    "def matrixMultiply(A, B):\n",
    "    try:\n",
    "        if len(A[0]) != len(B):\n",
    "            raise incompatibleMatrices\n",
    "\n",
    "        m, n, p = len(A), len(B), len(B[0])\n",
    "\n",
    "        C = [[0] * p for _ in range(m)]\n",
    "\n",
    "        for i in range(m):\n",
    "            for j in range(p):\n",
    "                for k in range(n):\n",
    "                    C[i][j] += A[i][k] * B[k][j]\n",
    "\n",
    "        return C\n",
    "\n",
    "    except incompatibleMatrices:\n",
    "        print(\"matrices are not compatible, check input\")\n"
   ]
  },
  {
   "cell_type": "code",
   "execution_count": 5,
   "metadata": {},
   "outputs": [
    {
     "name": "stdout",
     "output_type": "stream",
     "text": [
      "[[1, 2, 3],\n",
      " [2, 4, 6],\n",
      " [3, 6, 9]]\n"
     ]
    }
   ],
   "source": [
    "a = [[1],[2],[3]]\n",
    "b = [[1,2,3]]\n",
    "\n",
    "pprint(matrixMultiply(a,b), width = 20)"
   ]
  }
 ],
 "metadata": {
  "kernelspec": {
   "display_name": "Python 3",
   "language": "python",
   "name": "python3"
  },
  "language_info": {
   "codemirror_mode": {
    "name": "ipython",
    "version": 3
   },
   "file_extension": ".py",
   "mimetype": "text/x-python",
   "name": "python",
   "nbconvert_exporter": "python",
   "pygments_lexer": "ipython3",
   "version": "3.10.9 (tags/v3.10.9:1dd9be6, Dec  6 2022, 20:01:21) [MSC v.1934 64 bit (AMD64)]"
  },
  "orig_nbformat": 4,
  "vscode": {
   "interpreter": {
    "hash": "c978eac7466799293404a0039d84fee54de10c289a27e33b3ff26b5b3fb1ea16"
   }
  }
 },
 "nbformat": 4,
 "nbformat_minor": 2
}
