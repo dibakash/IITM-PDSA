{
 "cells": [
  {
   "attachments": {},
   "cell_type": "markdown",
   "metadata": {},
   "source": [
    "# Calculating Complexity - Examples\n",
    "\n",
    "<!-- Notes maintained by: Dibakash Baruah -->\n",
    "\n",
    "\n",
    "Typically there will be two types of code that we look at.  \n",
    "\n",
    "- **Iterative Programs** \n",
    "- **Recursive Programs**\n",
    "\n",
    "\n",
    "\n",
    "## Iterative Programs Example\n",
    "\n",
    "\n"
   ]
  },
  {
   "cell_type": "code",
   "execution_count": null,
   "metadata": {},
   "outputs": [],
   "source": []
  }
 ],
 "metadata": {
  "kernelspec": {
   "display_name": "Python 3",
   "language": "python",
   "name": "python3"
  },
  "language_info": {
   "codemirror_mode": {
    "name": "ipython",
    "version": 3
   },
   "file_extension": ".py",
   "mimetype": "text/x-python",
   "name": "python",
   "nbconvert_exporter": "python",
   "pygments_lexer": "ipython3",
   "version": "3.10.9"
  },
  "orig_nbformat": 4,
  "vscode": {
   "interpreter": {
    "hash": "c978eac7466799293404a0039d84fee54de10c289a27e33b3ff26b5b3fb1ea16"
   }
  }
 },
 "nbformat": 4,
 "nbformat_minor": 2
}
