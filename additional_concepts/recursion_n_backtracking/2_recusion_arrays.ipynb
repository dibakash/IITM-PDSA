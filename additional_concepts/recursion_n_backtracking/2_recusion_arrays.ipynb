{
 "cells": [
  {
   "attachments": {},
   "cell_type": "markdown",
   "metadata": {},
   "source": [
    "# Recursion operations on Arrays"
   ]
  },
  {
   "attachments": {},
   "cell_type": "markdown",
   "metadata": {},
   "source": [
    "## 1. Display Array"
   ]
  },
  {
   "cell_type": "code",
   "execution_count": 17,
   "metadata": {},
   "outputs": [
    {
     "name": "stdout",
     "output_type": "stream",
     "text": [
      "10, 12, 14, 18, 19, 20, 40\n"
     ]
    }
   ],
   "source": [
    "Arr  = [10, 12, 14, 18, 19, 20, 40]\n",
    "\n",
    "def arr_display(Arr, idx):\n",
    "    # base case\n",
    "    if idx == len(Arr):\n",
    "        return\n",
    "    # expectation: will print all the elements from index 0 to n-1\n",
    "    # faith arr_display will print elements from index 1, n-1\n",
    "    \n",
    "    # connect expectation and faith\n",
    "    if idx != len(Arr) - 1:\n",
    "        print(Arr[idx], end=\", \")\n",
    "    else:\n",
    "        print(Arr[idx])\n",
    "        \n",
    "    arr_display(Arr, idx + 1)\n",
    "\n",
    "arr_display(Arr,0)\n",
    "    "
   ]
  },
  {
   "attachments": {},
   "cell_type": "markdown",
   "metadata": {},
   "source": [
    "## 2. Display Array reversed"
   ]
  },
  {
   "cell_type": "code",
   "execution_count": 18,
   "metadata": {},
   "outputs": [
    {
     "name": "stdout",
     "output_type": "stream",
     "text": [
      "50, 40, 20, 19, 18, 14, 12, 10\n"
     ]
    }
   ],
   "source": [
    "Arr  = [10, 12, 14, 18, 19, 20, 40, 50]\n",
    "def arr_display(Arr, idx):\n",
    "    # base case\n",
    "    if idx == len(Arr):\n",
    "        return\n",
    "    # expectation: will print all the elements from index 0 to n-1\n",
    "    # faith arr_display will print elements from index 1, n-1\n",
    "    \n",
    "    # connect expectation and faith\n",
    "    arr_display(Arr, idx + 1)\n",
    "    \n",
    "    if idx != 0:\n",
    "        print(Arr[idx], end=\", \")\n",
    "    else:\n",
    "        print(Arr[idx])\n",
    "        \n",
    "\n",
    "arr_display(Arr,0)"
   ]
  },
  {
   "attachments": {},
   "cell_type": "markdown",
   "metadata": {},
   "source": [
    "## 3. Maximum of an Array"
   ]
  },
  {
   "cell_type": "code",
   "execution_count": 19,
   "metadata": {},
   "outputs": [
    {
     "name": "stdout",
     "output_type": "stream",
     "text": [
      "51\n"
     ]
    }
   ],
   "source": [
    "def max_arr(arr, idx):\n",
    "    # base case\n",
    "    if idx == len(arr) -1 :\n",
    "        return arr[idx]\n",
    "\n",
    "    max_res = max_arr(arr, idx + 1)\n",
    "    \n",
    "    if max_res > arr[idx]:\n",
    "        return max_res\n",
    "    else:\n",
    "        max_res = arr[idx]\n",
    "    \n",
    "    return max_res\n",
    "\n",
    "\n",
    "\n",
    "Arr  = [10, 12, 14, 18, 19, 51, 20, 40]    \n",
    "res = max_arr(Arr, 0)\n",
    "print(res)"
   ]
  },
  {
   "attachments": {},
   "cell_type": "markdown",
   "metadata": {},
   "source": [
    "## 4. First Index of occurrence"
   ]
  },
  {
   "cell_type": "code",
   "execution_count": 40,
   "metadata": {},
   "outputs": [
    {
     "name": "stdout",
     "output_type": "stream",
     "text": [
      "2\n"
     ]
    }
   ],
   "source": [
    "def fio(arr, number, idx):\n",
    "    if idx == len(arr):\n",
    "        return -1 # if not found return -1\n",
    "    \n",
    "    if arr[idx] == number:\n",
    "        return idx\n",
    "    else:\n",
    "        return fio(arr, number, idx + 1)\n",
    "    \n",
    "    \n",
    "    \n",
    "\n",
    "Arr  = [10, 12, 51, 14, 18, 19, 51, 20, 40]\n",
    "\n",
    "res = fio(Arr, 51, 0)\n",
    "print(res)    "
   ]
  },
  {
   "attachments": {},
   "cell_type": "markdown",
   "metadata": {},
   "source": [
    "## 5. Last Index of occurrence "
   ]
  },
  {
   "cell_type": "code",
   "execution_count": 42,
   "metadata": {},
   "outputs": [
    {
     "name": "stdout",
     "output_type": "stream",
     "text": [
      "6\n"
     ]
    }
   ],
   "source": [
    "def lio(arr, number, idx):\n",
    "    if idx == len(arr):\n",
    "        return -1 # if not found return -1\n",
    "    \n",
    "    res = lio(arr, number, idx + 1)    \n",
    "    \n",
    "    if res != -1:\n",
    "        return res\n",
    "    else:\n",
    "        if arr[idx] == number:\n",
    "            return idx\n",
    "        else:\n",
    "            return -1\n",
    "\n",
    "    \n",
    "\n",
    "Arr  = [10, 12, 51, 14, 18, 19, 51, 20, 40]\n",
    "\n",
    "res = lio(Arr, 51, 0)\n",
    "print(res)    "
   ]
  },
  {
   "attachments": {},
   "cell_type": "markdown",
   "metadata": {},
   "source": [
    "## 6. All indices in Array"
   ]
  },
  {
   "cell_type": "code",
   "execution_count": 46,
   "metadata": {},
   "outputs": [
    {
     "name": "stdout",
     "output_type": "stream",
     "text": [
      "[2, 6, 9]\n"
     ]
    }
   ],
   "source": [
    "def all_idx_arr(arr, value, idx, count):\n",
    "    if idx == len(arr):\n",
    "        return [0 for i in range(count)]\n",
    "    \n",
    "    if arr[idx] == value:\n",
    "        res = all_idx_arr(arr, value, idx + 1, count + 1)\n",
    "        res[count] = idx\n",
    "        return res\n",
    "    else:\n",
    "        res = all_idx_arr(arr, value, idx + 1, count)\n",
    "        return res\n",
    "\n",
    "\n",
    "arr  = [10, 12, 51, 14, 18, 19, 51, 20, 40, 51]\n",
    "res = all_idx_arr(arr, 51, 0, 0)\n",
    "print(res) "
   ]
  },
  {
   "attachments": {},
   "cell_type": "markdown",
   "metadata": {},
   "source": [
    "## 7. Subsequence of Array"
   ]
  },
  {
   "cell_type": "code",
   "execution_count": 74,
   "metadata": {},
   "outputs": [
    {
     "name": "stdout",
     "output_type": "stream",
     "text": [
      "['', 'c', 'b', 'bc', 'a', 'ac', 'ab', 'abc']\n",
      "8\n"
     ]
    }
   ],
   "source": [
    "def get_sub_seq(arr, idx):\n",
    "    if idx == len(arr):\n",
    "        return [\"\"]\n",
    "    \n",
    "    lead_seq = arr[idx]\n",
    "    rres = get_sub_seq(arr, idx + 1)\n",
    "    \n",
    "    res = []\n",
    "    for s in rres:\n",
    "        res.append(\"\" + s)\n",
    "    for s in rres:\n",
    "        res.append(lead_seq + s)\n",
    "    \n",
    "    return res\n",
    "    \n",
    "    \n",
    "    \n",
    "arr = [\"a\", \"b\", \"c\"]\n",
    "res = get_sub_seq(arr,0)\n",
    "print(res)\n",
    "print(len(res))\n"
   ]
  },
  {
   "attachments": {},
   "cell_type": "markdown",
   "metadata": {},
   "source": [
    "However, printing the subsequences will take enormous memory if a bigger array is fed into the function. \n",
    "\n",
    "In the above scenario, sub sequence result would contain total $2^{(n-1)} * n$ characters\n",
    "\n",
    "If an array / string with 32 character is used as an input, then result would contain-\n",
    "$2^{31} * 32 = (2^{10})^3 * 32 \\approx 10^{3^3} * 32 = 32 * 10^9 chars \\approx 32 * 10^9 bytes = 32 Gb!$\n",
    "\n",
    "So, instead of storing all the substrings in result array, we can directly print"
   ]
  },
  {
   "cell_type": "code",
   "execution_count": 99,
   "metadata": {},
   "outputs": [
    {
     "name": "stdout",
     "output_type": "stream",
     "text": [
      "---, --c, -b-, -bc, a--, a-c, ab-, abc, "
     ]
    }
   ],
   "source": [
    "def print_sub_seq(arr, prev_seq):\n",
    "    if not len(arr):\n",
    "        print(prev_seq, end=\", \")\n",
    "        return\n",
    "    \n",
    "    char = arr[0]\n",
    "    print_sub_seq(arr[1:], prev_seq + \"-\")    \n",
    "    # print_sub_seq(arr[1:], prev_seq + \"\")        \n",
    "    print_sub_seq(arr[1:], prev_seq + char)        \n",
    "    \n",
    "    \n",
    "arr = [\"a\", \"b\", \"c\"]\n",
    "print_sub_seq(arr,\"\")"
   ]
  },
  {
   "attachments": {},
   "cell_type": "markdown",
   "metadata": {},
   "source": [
    "## 8. key pad combination"
   ]
  },
  {
   "cell_type": "code",
   "execution_count": 130,
   "metadata": {},
   "outputs": [
    {
     "name": "stdout",
     "output_type": "stream",
     "text": [
      "[6, 2]\n"
     ]
    },
    {
     "data": {
      "text/plain": [
       "['ma', 'mb', 'mc', 'na', 'nb', 'nc', 'oa', 'ob', 'oc']"
      ]
     },
     "execution_count": 130,
     "metadata": {},
     "output_type": "execute_result"
    }
   ],
   "source": [
    "\n",
    "def get_combinations(number):\n",
    "    codes = {0:\"+\",1:\"\", 2:\"abc\", 3: \"def\", 4: \"ghi\", 5: \"jkl\", 6:\"mno\", 7:\"pqrs\", 8: \"tuv\", 9: \"wxyz\"}\n",
    "    \n",
    "    numbers_list = list(map(int, [c for c in str(number)]))\n",
    "    print(numbers_list)\n",
    "\n",
    "    def get_comb(numbers_list):\n",
    "        if not len(numbers_list):\n",
    "            return [\"\"]\n",
    "        \n",
    "        rres = get_comb(numbers_list[1:])\n",
    "        mres=[]\n",
    "\n",
    "        for i in codes[numbers_list[0]]:\n",
    "            for r in rres:\n",
    "                mres.append(i+r)\n",
    "                \n",
    "        return mres\n",
    "        \n",
    "\n",
    "    out = get_comb(numbers_list)\n",
    "    return out\n",
    "        \n",
    "get_combinations(62)\n"
   ]
  },
  {
   "attachments": {},
   "cell_type": "markdown",
   "metadata": {},
   "source": [
    "Like the previous example (get sub sequence) this would take enormous memory and hence inefficient. however we can directly print the combinations instead of storing it first"
   ]
  },
  {
   "cell_type": "code",
   "execution_count": 6,
   "metadata": {},
   "outputs": [
    {
     "name": "stdout",
     "output_type": "stream",
     "text": [
      "[3, 4, 2]\n",
      "dga,dgb,dgc,dha,dhb,dhc,dia,dib,dic,ega,egb,egc,eha,ehb,ehc,eia,eib,eic,fga,fgb,fgc,fha,fhb,fhc,fia,fib,fic,"
     ]
    }
   ],
   "source": [
    "\n",
    "def print_combinations(number):\n",
    "    key_codes = {0:\"+\",1:\"\", 2:\"abc\", 3: \"def\", 4: \"ghi\", 5: \"jkl\", 6:\"mno\", 7:\"pqrs\", 8: \"tuv\", 9: \"wxyz\"}\n",
    "    \n",
    "    numbers_list = list(map(int, [c for c in str(number)]))\n",
    "    print(numbers_list)\n",
    "\n",
    "    def print_comb(numbers_list, ans_sequences):\n",
    "        if len(numbers_list) == 0:\n",
    "            print(ans_sequences, end=\",\")\n",
    "            return\n",
    "        \n",
    "        n = numbers_list[0]\n",
    "        rest_of_nums = numbers_list[1:]\n",
    "        if key_codes[n]:\n",
    "            for c in key_codes[n]:\n",
    "                print_comb(rest_of_nums,ans_sequences + c )\n",
    "        else:\n",
    "            print(ans_sequences)\n",
    "            \n",
    "    print_comb(numbers_list, \"\")\n",
    "        \n",
    "print_combinations(342)\n"
   ]
  },
  {
   "attachments": {},
   "cell_type": "markdown",
   "metadata": {},
   "source": [
    "## 9. Get stairs paths\n",
    "\n",
    "Suppose there are N stairs. print all the possible paths if a person can jump maximum 3 steps at a time. Valid moves : 1, 2, 3 jumps one at a time. Cannot go beyond ground floor (level 0)"
   ]
  },
  {
   "cell_type": "code",
   "execution_count": 9,
   "metadata": {},
   "outputs": [
    {
     "name": "stdout",
     "output_type": "stream",
     "text": [
      "['1111', '112', '121', '13', '211', '22', '31']\n"
     ]
    }
   ],
   "source": [
    "def get_stair_path(lvl):\n",
    "    if lvl == 0:\n",
    "        return [\"\"]\n",
    "    elif lvl < 0:\n",
    "        return [] # so that it this path can be ignored and nothing will be added to this choice\n",
    "    \n",
    "    paths_first_jump_1_stair  = get_stair_path(lvl - 1)\n",
    "    paths_first_jump_2_stairs = get_stair_path(lvl - 2)\n",
    "    paths_first_jump_3_stairs = get_stair_path(lvl - 3)\n",
    "    \n",
    "    mres = []\n",
    "    \n",
    "    for path in paths_first_jump_1_stair:\n",
    "        mres.append(\"1\"+ path)\n",
    "    for path in paths_first_jump_2_stairs:\n",
    "        mres.append(\"2\"+ path)\n",
    "    for path in paths_first_jump_3_stairs:\n",
    "        mres.append(\"3\"+ path)\n",
    "        \n",
    "    return mres\n",
    "\n",
    "res = get_stair_path(4)\n",
    "print(res)\n",
    "     \n",
    "     "
   ]
  },
  {
   "attachments": {},
   "cell_type": "markdown",
   "metadata": {},
   "source": [
    "Similar to previous examples let's print the paths directly"
   ]
  },
  {
   "cell_type": "code",
   "execution_count": 12,
   "metadata": {},
   "outputs": [
    {
     "name": "stdout",
     "output_type": "stream",
     "text": [
      "1111, 112, 121, 13, 211, 22, 31, "
     ]
    }
   ],
   "source": [
    "def print_stair_path(lvl, path):\n",
    "    if lvl == 0:\n",
    "        print(path, end=\", \")\n",
    "        return\n",
    "    elif lvl < 0:\n",
    "        return\n",
    "    \n",
    "    \n",
    "    print_stair_path(lvl - 1, path + \"1\")\n",
    "    print_stair_path(lvl - 2, path + \"2\")\n",
    "    print_stair_path(lvl - 3, path + \"3\")\n",
    "    \n",
    "\n",
    "print_stair_path(4,\"\")"
   ]
  },
  {
   "attachments": {},
   "cell_type": "markdown",
   "metadata": {},
   "source": [
    "## 10. Get Maze Paths \n",
    "\n",
    "Given a square or rectangle Maze (like a n*m matrix) find out all the paths from source (1,1) to destination (n, m) cells. Assuming source and destinations are at top left and bottom right cells"
   ]
  },
  {
   "cell_type": "code",
   "execution_count": 18,
   "metadata": {},
   "outputs": [
    {
     "name": "stdout",
     "output_type": "stream",
     "text": [
      "['hhvvv', 'hvhvv', 'hvvhv', 'hvvvh', 'vhhvv', 'vhvhv', 'vhvvh', 'vvhhv', 'vvhvh', 'vvvhh']\n"
     ]
    }
   ],
   "source": [
    "def get_maze_path(source, destination):\n",
    "    \n",
    "    if source == destination:\n",
    "        return [\"\"]\n",
    "    \n",
    "    source_col, source_row = source\n",
    "    destination_col, destination_row = destination\n",
    "    horizontal_paths, vertical_paths = [],[]\n",
    "    if source_col < destination_col:\n",
    "        horizontal_paths = get_maze_path((source_col + 1, source_row), destination)\n",
    "    if source_row < destination_row:\n",
    "        vertical_paths = get_maze_path((source_col, source_row + 1), destination)\n",
    "    \n",
    "    all_paths = []\n",
    "    for path in horizontal_paths:\n",
    "        all_paths.append(\"h\"+path)\n",
    "    for path in vertical_paths:\n",
    "        all_paths.append(\"v\"+path)\n",
    "    \n",
    "    return all_paths\n",
    "\n",
    "res = get_maze_path((1,1), (3,4))\n",
    "print(res)"
   ]
  },
  {
   "attachments": {},
   "cell_type": "markdown",
   "metadata": {},
   "source": [
    "Like before, we can directly print\n",
    "\n",
    "Remember if calls are smart, then base case can be normal. If calls are stupid (like going out of the maze or problem boundaries) base can be smart to tackle the problem\n"
   ]
  },
  {
   "cell_type": "code",
   "execution_count": 21,
   "metadata": {},
   "outputs": [
    {
     "name": "stdout",
     "output_type": "stream",
     "text": [
      "hhvvv, hvhvv, hvvhv, hvvvh, vhhvv, vhvhv, vhvvh, vvhhv, vvhvh, vvvhh, "
     ]
    }
   ],
   "source": [
    "def print_maze(source, destination, path_so_far):\n",
    "    if source == destination:\n",
    "        print(path_so_far, end=\", \")\n",
    "        return\n",
    "    elif source[0] > destination[0] or source[1] > destination[1]:\n",
    "        return\n",
    "    \n",
    "    print_maze((source[0] + 1, source[1]), destination, path_so_far + \"h\")\n",
    "    print_maze((source[0] , source[1]+ 1), destination, path_so_far + \"v\")\n",
    "    \n",
    "print_maze((1,1), (3,4),\"\")\n",
    "    "
   ]
  },
  {
   "attachments": {},
   "cell_type": "markdown",
   "metadata": {},
   "source": [
    "## 11. Print Permutations"
   ]
  },
  {
   "cell_type": "code",
   "execution_count": 26,
   "metadata": {},
   "outputs": [
    {
     "name": "stdout",
     "output_type": "stream",
     "text": [
      "abc, acb, bac, bca, cab, cba, "
     ]
    }
   ],
   "source": [
    "def permutations(word, ans_so_far):\n",
    "    if len(word) == 0:\n",
    "        print(ans_so_far, end=\", \")\n",
    "        return\n",
    "    \n",
    "    for i in range(len(word)):\n",
    "        qleft = word[:i]\n",
    "        qright = word[i+1: ]\n",
    "        permutations(qleft+qright, ans_so_far + word[i])\n",
    "\n",
    "permutations(\"abc\", \"\")    \n",
    "    \n",
    "    "
   ]
  }
 ],
 "metadata": {
  "kernelspec": {
   "display_name": "Python 3",
   "language": "python",
   "name": "python3"
  },
  "language_info": {
   "codemirror_mode": {
    "name": "ipython",
    "version": 3
   },
   "file_extension": ".py",
   "mimetype": "text/x-python",
   "name": "python",
   "nbconvert_exporter": "python",
   "pygments_lexer": "ipython3",
   "version": "3.10.11"
  },
  "orig_nbformat": 4
 },
 "nbformat": 4,
 "nbformat_minor": 2
}
