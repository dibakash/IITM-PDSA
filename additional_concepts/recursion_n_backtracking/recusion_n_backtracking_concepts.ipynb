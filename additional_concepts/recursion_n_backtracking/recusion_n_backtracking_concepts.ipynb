{
 "cells": [
  {
   "attachments": {},
   "cell_type": "markdown",
   "metadata": {},
   "source": [
    "# Mathematical Induction and Recursion"
   ]
  },
  {
   "attachments": {},
   "cell_type": "markdown",
   "metadata": {},
   "source": [
    "## Mathematical induction\n",
    "<!-- Notebook by - Dibakash Baruah, IIT Madras BS Applications Programming and Data Science -->\n",
    "\n",
    "Mathematical induction is a powerful proof technique used to prove statements about natural numbers. It consists of two steps:\n",
    "\n",
    "1. **Base case**: \n",
    "Prove that the statement holds true for some initial value (usually 0 or 1).\n",
    "\n",
    "2. **Inductive step**: \n",
    "Assume that the statement holds true for some arbitrary value n, and then prove that it must also hold true for n+1.\n",
    "\n",
    "This process can be repeated indefinitely, which allows us to prove that the statement holds true for all natural numbers."
   ]
  },
  {
   "attachments": {},
   "cell_type": "markdown",
   "metadata": {},
   "source": [
    "## Recursion Programming\n",
    "Recursion is a programming technique in which a function calls itself in order to solve a problem. It can be used to solve problems that can be broken down into smaller subproblems, each of which is a smaller version of the original problem. The base case is the smallest subproblem that can be solved directly.\n",
    "\n",
    "The process of recursion can be thought of as a form of mathematical induction. The base case corresponds to the initial value in the mathematical induction proof, and the inductive step corresponds to the recursive call. In order for the recursion to terminate, there must be a base case that can be solved directly, just as there must be a base case in a mathematical induction proof.\n",
    "\n",
    "Example: Factorial Function\n",
    "Let's take the factorial function as an example. The factorial of a non-negative integer n, denoted n!, is defined as the product of all positive integers from 1 to n. For example, 5! = 5 * 4 * 3 * 2 * 1 = 120.\n",
    "\n",
    "The factorial function can be defined recursively as follows:\n",
    "\n"
   ]
  },
  {
   "cell_type": "code",
   "execution_count": 58,
   "metadata": {},
   "outputs": [
    {
     "name": "stdout",
     "output_type": "stream",
     "text": [
      "120\n"
     ]
    }
   ],
   "source": [
    "def factorial(n):\n",
    "    if n == 0:\n",
    "        return 1\n",
    "    else:\n",
    "        fnm1 = factorial(n-1)\n",
    "        fn = n * fnm1\n",
    "        return fn\n",
    "\n",
    "res = factorial(5)\n",
    "print(res)"
   ]
  },
  {
   "attachments": {},
   "cell_type": "markdown",
   "metadata": {},
   "source": [
    "In this implementation, the base case is when n equals 0, in which case the function returns 1. The inductive step is the recursive call to factorial(n-1), which computes the factorial of the previous integer and multiplies it by n.\n",
    "\n",
    "We can prove that this implementation of the factorial function is correct using mathematical induction. The base case is when n=0, in which case the function correctly returns 1. For the inductive step, we assume that the function correctly computes the factorial of n, and then show that it must also correctly compute the factorial of n+1:\n",
    "\n",
    "$$\n",
    "factorial(n+1) \n",
    "\\begin{array}{lr} \\\\\n",
    "= (n+1) * factorial(n) \\\\\n",
    "= (n+1) * n * factorial(n-1) \\\\\n",
    "\\end{array}\n",
    "$$\n",
    "\n",
    "By the inductive hypothesis, we know that $factorial(n) = n * factorial(n-1)$, so we can substitute this expression to get:\n",
    "$$\n",
    "factorial(n+1)\n",
    "\\begin{array}{lr} \\\\ \\\\\n",
    "= (n+1) * factorial(n) \\\\\n",
    "= (n+1) * n * n-1 * ... * 1  \\\\\n",
    "= (n+1)! \\\\\n",
    "\\end{array}\n",
    "$$\n",
    "Thus, the implementation of the factorial function using recursion is correct for all non-negative integers."
   ]
  },
  {
   "attachments": {},
   "cell_type": "markdown",
   "metadata": {},
   "source": [
    "### Conclusion\n",
    "\n",
    "In conclusion, mathematical induction is a powerful proof technique that can be used to prove statements about natural numbers, and recursion is a programming technique that can be thought of as a form of mathematical induction. The base case in a recursive function corresponds to the initial value in a mathematical induction proof, and the recursive call corresponds to the inductive step. By ensuring that the base case is correct and the recursive call eventually reaches the base case, we can use recursion to solve problems that can be broken down into smaller subproblems."
   ]
  },
  {
   "attachments": {},
   "cell_type": "markdown",
   "metadata": {},
   "source": [
    "#### Faith\n",
    "\n",
    "In terms of recursion programming, faith can refer to the trust or belief that a recursive function will eventually reach a base case and produce the correct result.\n",
    "\n",
    "When implementing a recursive function, the base case represents the starting point of the recursion where the problem is solved directly without any further recursion. The recursive case represents the recursive call where the problem is reduced to a smaller subproblem and the same function is called recursively to solve it.\n",
    "\n",
    "In order for a recursive function to work correctly, we need to have faith that it will eventually reach the base case and produce the correct result. This requires an understanding of how the function works and how it reduces the problem to smaller sub-problems. We also need to ensure that the base case is correct and that the recursion terminates at some point.\n",
    "\n",
    "Just as faith in a higher power or supernatural force can provide guidance and comfort in religious contexts, faith in the correctness of a recursive function can provide confidence and assurance when programming. It can help us to tackle complex problems by breaking them down into smaller sub-problems and trusting in the recursion to produce the correct solution."
   ]
  },
  {
   "attachments": {},
   "cell_type": "markdown",
   "metadata": {},
   "source": [
    "## Examples"
   ]
  },
  {
   "attachments": {},
   "cell_type": "markdown",
   "metadata": {},
   "source": [
    "### Print Decreasing"
   ]
  },
  {
   "cell_type": "code",
   "execution_count": 37,
   "metadata": {},
   "outputs": [
    {
     "name": "stdout",
     "output_type": "stream",
     "text": [
      "6, 5, 4, 3, 2, 1\n"
     ]
    }
   ],
   "source": [
    "def print_decreasing(n):\n",
    "    # base case (decide after expectation and faith stage or can be intuitively determined)\n",
    "    if n == 0:\n",
    "        return \n",
    "    \n",
    "    # Expectation: \n",
    "    # fn(n) will print n, n-1, ..., 3, 2, 1 \n",
    "    \n",
    "    # faith that it will give correct result for smaller problem. \n",
    "    # fn(n-1) = n-1, n-2, ..., 3,2,1\n",
    "   \n",
    "    # link expectation to faith (i.e current step to smaller problem)\n",
    "    if n == 1:\n",
    "        print(1)\n",
    "    else:\n",
    "        print(n, end= \", \")\n",
    "    print_decreasing(n-1)\n",
    "\n",
    "print_decreasing(6)"
   ]
  },
  {
   "attachments": {},
   "cell_type": "markdown",
   "metadata": {},
   "source": [
    "### Print Increasing"
   ]
  },
  {
   "cell_type": "code",
   "execution_count": 38,
   "metadata": {},
   "outputs": [
    {
     "name": "stdout",
     "output_type": "stream",
     "text": [
      "1, 2, 3, 4, 5, 6\n"
     ]
    }
   ],
   "source": [
    "count = 0\n",
    "def print_increasing(n):\n",
    "    global count\n",
    "    # base case (decide after expectation and faith stage or can be intuitively determined)\n",
    "    if n == 0:\n",
    "        return \n",
    "    \n",
    "    # Expectation: \n",
    "    # fn(n) will print 1, 2, 3, ..., n\n",
    "    \n",
    "    # faith that it will give correct result for smaller problem. \n",
    "    # fn(n-1) = 1, 2, 3, ..., (n-1)\n",
    "   \n",
    "    # link expectation to faith (i.e current step to smaller problem)\n",
    "    count += 1\n",
    "    print_increasing(n-1)\n",
    "    count -= 1 \n",
    "    \n",
    "    if count == 0:\n",
    "        print(n)\n",
    "    else:\n",
    "        print(n, end= \", \")\n",
    "\n",
    "print_increasing(6)"
   ]
  },
  {
   "attachments": {},
   "cell_type": "markdown",
   "metadata": {},
   "source": [
    "#### Can we do this without implicit recursion?\n"
   ]
  },
  {
   "cell_type": "code",
   "execution_count": 48,
   "metadata": {},
   "outputs": [
    {
     "name": "stdout",
     "output_type": "stream",
     "text": [
      "1, 2, 3, 4, 5, 6\n",
      "6, 5, 4, 3, 2, 1\n"
     ]
    }
   ],
   "source": [
    "# We can use an explicit stack (in many cases this is useful)\n",
    "def print_increasing_stack(n):\n",
    "    stack = []\n",
    "    \n",
    "    for i in range(n, 0, -1):\n",
    "        stack.append(i)\n",
    "    \n",
    "    while stack:\n",
    "        n = stack.pop()\n",
    "        if stack:\n",
    "            print(n, end = \", \")\n",
    "        else:\n",
    "            print(n)\n",
    "    \n",
    "\n",
    "print_increasing_stack(6)\n",
    "\n",
    "def print_decreasing_stack(n):\n",
    "    stack = []\n",
    "    \n",
    "    for i in range(1, n+1):\n",
    "        stack.append(i)\n",
    "    \n",
    "    while stack:\n",
    "        n = stack.pop()\n",
    "        if stack:\n",
    "            print(n, end = \", \")\n",
    "        else:\n",
    "            print(n)\n",
    "    \n",
    "\n",
    "print_decreasing_stack(6)"
   ]
  },
  {
   "attachments": {},
   "cell_type": "markdown",
   "metadata": {},
   "source": [
    "### Print Decreasing then Increasing (5,4,3,2,1,1,2,3,4,5)"
   ]
  },
  {
   "cell_type": "code",
   "execution_count": 56,
   "metadata": {},
   "outputs": [
    {
     "name": "stdout",
     "output_type": "stream",
     "text": [
      "5, 4, 3, 2, 1, 1, 2, 3, 4, 5\n"
     ]
    }
   ],
   "source": [
    "count = 0\n",
    "def dec_inc(n):\n",
    "    global count\n",
    "    # base case\n",
    "    if n == 0:\n",
    "        return\n",
    "    # expectation \n",
    "    #  5, 4, 3, 2, 1, 1, 2, 3, 4, 5\n",
    "    \n",
    "    # faith: \n",
    "    # dec_inc(n-1)\n",
    "    \n",
    "    # connect faith expectation\n",
    "    print(n, end = \", \")\n",
    "    count += 1\n",
    "    dec_inc(n-1) #recursive step\n",
    "    count -= 1\n",
    "    if count:\n",
    "        print(n, end = \", \")\n",
    "    else:\n",
    "        print(n)\n",
    "    \n",
    "dec_inc(5)"
   ]
  },
  {
   "attachments": {},
   "cell_type": "markdown",
   "metadata": {},
   "source": [
    "## Power_linear and Power_logarithmic"
   ]
  },
  {
   "cell_type": "code",
   "execution_count": 7,
   "metadata": {},
   "outputs": [
    {
     "name": "stdout",
     "output_type": "stream",
     "text": [
      "1024\n",
      "1024\n"
     ]
    }
   ],
   "source": [
    "def power_linear(x,n):\n",
    "    # base case\n",
    "    if n == 0:\n",
    "        return 1\n",
    "\n",
    "    # x^n = x * x^(n-1)\n",
    "    xnm1 = power_linear(x, n-1)\n",
    "    xn = x* xnm1\n",
    "    \n",
    "    return xn\n",
    "\n",
    "res = power_linear(2, 10)\n",
    "print(res) \n",
    "    \n",
    "    \n",
    "def power_log(x,n):\n",
    "    # base case\n",
    "    if ( n == 0):\n",
    "        return 1\n",
    "\n",
    "    xpnb2 = power_log(x,n//2) \n",
    "    xn = xpnb2 * xpnb2\n",
    "    if( n % 2 == 1):\n",
    "        xn *= x\n",
    "    return xn\n",
    "\n",
    "res2 = power_log(2, 10)\n",
    "print(res2) \n",
    "    "
   ]
  },
  {
   "attachments": {},
   "cell_type": "markdown",
   "metadata": {},
   "source": [
    "### Understanding multiple recursive calls from one function"
   ]
  },
  {
   "attachments": {},
   "cell_type": "markdown",
   "metadata": {},
   "source": [
    "understanding pre, in and post recursion calls can help us write algorithms in a better way and to predict outcomes of recursion"
   ]
  },
  {
   "cell_type": "code",
   "execution_count": 1,
   "metadata": {},
   "outputs": [
    {
     "name": "stdout",
     "output_type": "stream",
     "text": [
      "pre: do something  3\n",
      "pre: do something  2\n",
      "pre: do something  1\n",
      "In: do something  1\n",
      "Post: do something  1\n",
      "In: do something  2\n",
      "pre: do something  1\n",
      "In: do something  1\n",
      "Post: do something  1\n",
      "Post: do something  2\n",
      "In: do something  3\n",
      "pre: do something  2\n",
      "pre: do something  1\n",
      "In: do something  1\n",
      "Post: do something  1\n",
      "In: do something  2\n",
      "pre: do something  1\n",
      "In: do something  1\n",
      "Post: do something  1\n",
      "Post: do something  2\n",
      "Post: do something  3\n"
     ]
    }
   ],
   "source": [
    "def multi_recurse(n):\n",
    "    # base case\n",
    "    if n == 0:\n",
    "        return\n",
    "    \n",
    "    # this section is called \"pre\" region\n",
    "    print(\"pre: do something \", n)\n",
    "\n",
    "    multi_recurse(n-1) # first recursive call\n",
    "\n",
    "    # this section between two recursive calls is called \"in\" region\n",
    "    print(\"In: do something \", n)\n",
    "    \n",
    "    multi_recurse(n-1) # second recursive call\n",
    "    \n",
    "    # this section after all recursive calls is called \"Post\" region\n",
    "    print(\"Post: do something \", n)\n",
    "    \n",
    "\n",
    "multi_recurse(3)\n",
    "    \n",
    "    "
   ]
  },
  {
   "attachments": {
    "image.png": {
     "image/png": "[encoded data removed]"
    }
   },
   "cell_type": "markdown",
   "metadata": {},
   "source": [
    "Drawing Euler path graph tree can easily help us predict outcomes of recursion manually\n",
    "\n",
    "![image.png](attachment:image.png)"
   ]
  }
 ],
 "metadata": {
  "kernelspec": {
   "display_name": "Python 3",
   "language": "python",
   "name": "python3"
  },
  "language_info": {
   "codemirror_mode": {
    "name": "ipython",
    "version": 3
   },
   "file_extension": ".py",
   "mimetype": "text/x-python",
   "name": "python",
   "nbconvert_exporter": "python",
   "pygments_lexer": "ipython3",
   "version": "3.10.11"
  },
  "orig_nbformat": 4
 },
 "nbformat": 4,
 "nbformat_minor": 2
}
