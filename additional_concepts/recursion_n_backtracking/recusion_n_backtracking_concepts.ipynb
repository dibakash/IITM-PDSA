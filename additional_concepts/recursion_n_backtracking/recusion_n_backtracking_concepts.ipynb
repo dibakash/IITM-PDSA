{
 "cells": [
  {
   "attachments": {},
   "cell_type": "markdown",
   "metadata": {},
   "source": [
    "# Mathematical Induction and Recursion"
   ]
  },
  {
   "attachments": {},
   "cell_type": "markdown",
   "metadata": {},
   "source": [
    "## Mathematical induction\n",
    "\n",
    "Mathematical induction is a powerful proof technique used to prove statements about natural numbers. It consists of two steps:\n",
    "\n",
    "Base case: Prove that the statement holds true for some initial value (usually 0 or 1).\n",
    "Inductive step: Assume that the statement holds true for some arbitrary value n, and then prove that it must also hold true for n+1.\n",
    "This process can be repeated indefinitely, which allows us to prove that the statement holds true for all natural numbers."
   ]
  },
  {
   "attachments": {},
   "cell_type": "markdown",
   "metadata": {},
   "source": [
    "## Recursion Programming\n",
    "Recursion is a programming technique in which a function calls itself in order to solve a problem. It can be used to solve problems that can be broken down into smaller subproblems, each of which is a smaller version of the original problem. The base case is the smallest subproblem that can be solved directly.\n",
    "\n",
    "The process of recursion can be thought of as a form of mathematical induction. The base case corresponds to the initial value in the mathematical induction proof, and the inductive step corresponds to the recursive call. In order for the recursion to terminate, there must be a base case that can be solved directly, just as there must be a base case in a mathematical induction proof.\n",
    "\n",
    "Example: Factorial Function\n",
    "Let's take the factorial function as an example. The factorial of a non-negative integer n, denoted n!, is defined as the product of all positive integers from 1 to n. For example, 5! = 5 * 4 * 3 * 2 * 1 = 120.\n",
    "\n",
    "The factorial function can be defined recursively as follows:\n",
    "\n"
   ]
  },
  {
   "cell_type": "code",
   "execution_count": 1,
   "metadata": {},
   "outputs": [
    {
     "name": "stdout",
     "output_type": "stream",
     "text": [
      "120\n"
     ]
    }
   ],
   "source": [
    "def factorial(n):\n",
    "    if n == 0:\n",
    "        return 1\n",
    "    else:\n",
    "        return n * factorial(n-1)\n",
    "\n",
    "res = factorial(5)\n",
    "print(res)"
   ]
  },
  {
   "attachments": {},
   "cell_type": "markdown",
   "metadata": {},
   "source": [
    "In this implementation, the base case is when n equals 0, in which case the function returns 1. The inductive step is the recursive call to factorial(n-1), which computes the factorial of the previous integer and multiplies it by n.\n",
    "\n",
    "We can prove that this implementation of the factorial function is correct using mathematical induction. The base case is when n=0, in which case the function correctly returns 1. For the inductive step, we assume that the function correctly computes the factorial of n, and then show that it must also correctly compute the factorial of n+1:\n",
    "\n",
    "$$\n",
    "factorial(n+1) \n",
    "\\begin{array}{lr} \\\\\n",
    "= (n+1) * factorial(n) \\\\\n",
    "= (n+1) * n * factorial(n-1) \\\\\n",
    "\\end{array}\n",
    "$$\n",
    "\n",
    "By the inductive hypothesis, we know that $factorial(n) = n * factorial(n-1)$, so we can substitute this expression to get:\n",
    "$$\n",
    "factorial(n+1)\n",
    "\\begin{array}{lr} \\\\ \\\\\n",
    "= (n+1) * factorial(n) \\\\\n",
    "= (n+1) * n * n-1 * ... * 1  \\\\\n",
    "= (n+1)! \\\\\n",
    "\\end{array}\n",
    "$$\n",
    "Thus, the implementation of the factorial function using recursion is correct for all non-negative integers."
   ]
  },
  {
   "attachments": {},
   "cell_type": "markdown",
   "metadata": {},
   "source": [
    "### Conclusion\n",
    "\n",
    "In conclusion, mathematical induction is a powerful proof technique that can be used to prove statements about natural numbers, and recursion is a programming technique that can be thought of as a form of mathematical induction. The base case in a recursive function corresponds to the initial value in a mathematical induction proof, and the recursive call corresponds to the inductive step. By ensuring that the base case is correct and the recursive call eventually reaches the base case, we can use recursion to solve problems that can be broken down into smaller subproblems."
   ]
  }
 ],
 "metadata": {
  "kernelspec": {
   "display_name": "Python 3",
   "language": "python",
   "name": "python3"
  },
  "language_info": {
   "codemirror_mode": {
    "name": "ipython",
    "version": 3
   },
   "file_extension": ".py",
   "mimetype": "text/x-python",
   "name": "python",
   "nbconvert_exporter": "python",
   "pygments_lexer": "ipython3",
   "version": "3.10.11"
  },
  "orig_nbformat": 4
 },
 "nbformat": 4,
 "nbformat_minor": 2
}
